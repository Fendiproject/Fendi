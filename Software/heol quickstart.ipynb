{
 "cells": [
  {
   "cell_type": "markdown",
   "metadata": {},
   "source": [
    "## Importer le package Fendi"
   ]
  },
  {
   "cell_type": "code",
   "execution_count": 1,
   "metadata": {
    "collapsed": false
   },
   "outputs": [
    {
     "ename": "ImportError",
     "evalue": "No module named fendi",
     "output_type": "error",
     "traceback": [
      "\u001b[1;31m---------------------------------------------------------------------------\u001b[0m",
      "\u001b[1;31mImportError\u001b[0m                               Traceback (most recent call last)",
      "\u001b[1;32m<ipython-input-1-4f0f86442880>\u001b[0m in \u001b[0;36m<module>\u001b[1;34m()\u001b[0m\n\u001b[1;32m----> 1\u001b[1;33m \u001b[1;32mfrom\u001b[0m \u001b[0mfendi\u001b[0m \u001b[1;32mimport\u001b[0m \u001b[0mFendi\u001b[0m\u001b[1;33m\u001b[0m\u001b[0m\n\u001b[0m",
      "\u001b[1;31mImportError\u001b[0m: No module named fendi"
     ]
    }
   ],
   "source": [
    "from fendi import Fendi"
   ]
  },
  {
   "cell_type": "markdown",
   "metadata": {},
   "source": [
    "## Créer le robot"
   ]
  },
  {
   "cell_type": "code",
   "execution_count": 2,
   "metadata": {
    "collapsed": false,
    "scrolled": false
   },
   "outputs": [
    {
     "name": "stderr",
     "output_type": "stream",
     "text": [
      "WARNING:pypot.dynamixel.error:Communication error after sending DxlSyncReadDataPacket(ids=[11, 12, 13, 31, 32, 33, 34, 21, 22, 23, 24, 41, 42, 43, 44, 45, 46, 51, 52, 53, 54, 55, 56], address=6, length=4)\n",
      "WARNING:pypot.dynamixel.error:Communication error after sending DxlSyncReadDataPacket(ids=[11, 12, 13, 31, 32, 33, 34, 21, 22, 23, 24, 41, 42, 43, 44, 45, 46, 51, 52, 53, 54, 55, 56], address=6, length=4)\n",
      "WARNING:pypot.dynamixel.error:Communication error after sending DxlSyncReadDataPacket(ids=[11, 12, 13, 31, 32, 33, 34, 21, 22, 23, 24, 41, 42, 43, 44, 45, 46, 51, 52, 53, 54, 55, 56], address=6, length=4)\n",
      "WARNING:pypot.dynamixel.error:Communication error after sending DxlSyncReadDataPacket(ids=[11, 12, 13, 31, 32, 33, 34, 21, 22, 23, 24, 41, 42, 43, 44, 45, 46, 51, 52, 53, 54, 55, 56], address=6, length=4)\n",
      "WARNING:pypot.dynamixel.error:Communication error after sending DxlSyncReadDataPacket(ids=[11, 12, 13, 31, 32, 33, 34, 21, 22, 23, 24, 41, 42, 43, 44, 45, 46, 51, 52, 53, 54, 55, 56], address=6, length=4)\n",
      "WARNING:pypot.dynamixel.error:Communication error after sending DxlSyncReadDataPacket(ids=[11, 12, 13, 31, 32, 33, 34, 21, 22, 23, 24, 41, 42, 43, 44, 45, 46, 51, 52, 53, 54, 55, 56], address=6, length=4)\n",
      "WARNING:pypot.dynamixel.error:Communication error after sending DxlSyncReadDataPacket(ids=[11, 12, 13, 31, 32, 33, 34, 21, 22, 23, 24, 41, 42, 43, 44, 45, 46, 51, 52, 53, 54, 55, 56], address=6, length=4)\n",
      "WARNING:pypot.dynamixel.error:Communication error after sending DxlSyncReadDataPacket(ids=[11, 12, 13, 31, 32, 33, 34, 21, 22, 23, 24, 41, 42, 43, 44, 45, 46, 51, 52, 53, 54, 55, 56], address=46, length=1)\n",
      "WARNING:pypot.dynamixel.error:Communication error after sending DxlSyncReadDataPacket(ids=[11, 12, 13, 31, 32, 33, 34, 21, 22, 23, 24, 41, 42, 43, 44, 45, 46, 51, 52, 53, 54, 55, 56], address=6, length=4)\n",
      "WARNING:pypot.dynamixel.error:Communication error after sending DxlSyncReadDataPacket(ids=[11, 12, 13, 31, 32, 33, 34, 21, 22, 23, 24, 41, 42, 43, 44, 45, 46, 51, 52, 53, 54, 55, 56], address=6, length=4)\n",
      "WARNING:pypot.dynamixel.error:Communication error after sending DxlSyncReadDataPacket(ids=[11, 12, 13, 31, 32, 33, 34, 21, 22, 23, 24, 41, 42, 43, 44, 45, 46, 51, 52, 53, 54, 55, 56], address=6, length=4)\n",
      "WARNING:pypot.dynamixel.error:Communication error after sending DxlSyncReadDataPacket(ids=[11, 12, 13, 31, 32, 33, 34, 21, 22, 23, 24, 41, 42, 43, 44, 45, 46, 51, 52, 53, 54, 55, 56], address=6, length=4)\n",
      "WARNING:pypot.dynamixel.error:Communication error after sending DxlSyncReadDataPacket(ids=[11, 12, 13, 31, 32, 33, 34, 21, 22, 23, 24, 41, 42, 43, 44, 45, 46, 51, 52, 53, 54, 55, 56], address=37, length=6)\n",
      "WARNING:pypot.dynamixel.error:Communication error after sending DxlSyncReadDataPacket(ids=[11, 12, 13, 31, 32, 33, 34, 21, 22, 23, 24, 41, 42, 43, 44, 45, 46, 51, 52, 53, 54, 55, 56], address=6, length=4)\n",
      "WARNING:pypot.dynamixel.error:Communication error after sending DxlSyncReadDataPacket(ids=[11, 12, 13, 31, 32, 33, 34, 21, 22, 23, 24, 41, 42, 43, 44, 45, 46, 51, 52, 53, 54, 55, 56], address=37, length=6)\n"
     ]
    }
   ],
   "source": [
    "fendi = Fendi()"
   ]
  },
  {
   "cell_type": "markdown",
   "metadata": {},
   "source": [
    "A partir de ce moment le robot physique et le robot software sont connectés. Tous les commandes que tu lances sur l'objet fendi sont lancés sur le robot."
   ]
  },
  {
   "cell_type": "markdown",
   "metadata": {},
   "source": [
    "## Utiliser le robot"
   ]
  },
  {
   "cell_type": "markdown",
   "metadata": {},
   "source": [
    "Affiche un ensemble d'infos sur le robot"
   ]
  },
  {
   "cell_type": "code",
   "execution_count": null,
   "metadata": {
    "collapsed": true
   },
   "outputs": [],
   "source": [
    "fendi"
   ]
  },
  {
   "cell_type": "markdown",
   "metadata": {},
   "source": [
    "Mets tous les moteurs en non-compliant"
   ]
  },
  {
   "cell_type": "code",
   "execution_count": 17,
   "metadata": {
    "collapsed": true
   },
   "outputs": [
    {
     "name": "stderr",
     "output_type": "stream",
     "text": [
      "WARNING:pypot.dynamixel.error:Timeout after sending DxlSyncReadDataPacket(ids=[11, 12, 13, 31, 32, 33, 34, 21, 22, 23, 24, 41, 42, 43, 44, 45, 46, 51, 52, 53, 54, 55, 56], address=6, length=4) to motors 254\n",
      "WARNING:pypot.dynamixel.error:Communication error after sending DxlSyncReadDataPacket(ids=[11, 12, 13, 31, 32, 33, 34, 21, 22, 23, 24, 41, 42, 43, 44, 45, 46, 51, 52, 53, 54, 55, 56], address=6, length=4)\n",
      "WARNING:pypot.dynamixel.error:Communication error after sending DxlSyncReadDataPacket(ids=[11, 12, 13, 31, 32, 33, 34, 21, 22, 23, 24, 41, 42, 43, 44, 45, 46, 51, 52, 53, 54, 55, 56], address=6, length=4)\n",
      "WARNING:pypot.dynamixel.error:Communication error after sending DxlSyncReadDataPacket(ids=[11, 12, 13, 31, 32, 33, 34, 21, 22, 23, 24, 41, 42, 43, 44, 45, 46, 51, 52, 53, 54, 55, 56], address=6, length=4)\n",
      "WARNING:pypot.dynamixel.error:Communication error after sending DxlSyncReadDataPacket(ids=[11, 12, 13, 31, 32, 33, 34, 21, 22, 23, 24, 41, 42, 43, 44, 45, 46, 51, 52, 53, 54, 55, 56], address=6, length=4)\n",
      "WARNING:pypot.dynamixel.error:Communication error after sending DxlSyncReadDataPacket(ids=[11, 12, 13, 31, 32, 33, 34, 21, 22, 23, 24, 41, 42, 43, 44, 45, 46, 51, 52, 53, 54, 55, 56], address=6, length=4)\n",
      "WARNING:pypot.dynamixel.error:Communication error after sending DxlSyncReadDataPacket(ids=[11, 12, 13, 31, 32, 33, 34, 21, 22, 23, 24, 41, 42, 43, 44, 45, 46, 51, 52, 53, 54, 55, 56], address=6, length=4)\n",
      "WARNING:pypot.dynamixel.error:Communication error after sending DxlSyncReadDataPacket(ids=[11, 12, 13, 31, 32, 33, 34, 21, 22, 23, 24, 41, 42, 43, 44, 45, 46, 51, 52, 53, 54, 55, 56], address=6, length=4)\n"
     ]
    }
   ],
   "source": [
    "for m in fendi.motors:\n",
    "    m.compliant = False"
   ]
  },
  {
   "cell_type": "markdown",
   "metadata": {},
   "source": [
    "Mets tous les moteurs à 0"
   ]
  },
  {
   "cell_type": "code",
   "execution_count": null,
   "metadata": {
    "collapsed": false
   },
   "outputs": [],
   "source": [
    "for m in fendi.motors:\n",
    "    m.moving_speed = 100\n",
    "    m.goal_speed = 0"
   ]
  },
  {
   "cell_type": "markdown",
   "metadata": {},
   "source": [
    "## Lancer des primitives"
   ]
  },
  {
   "cell_type": "markdown",
   "metadata": {},
   "source": [
    "Le mettre debout"
   ]
  },
  {
   "cell_type": "code",
   "execution_count": 3,
   "metadata": {
    "collapsed": false
   },
   "outputs": [
    {
     "name": "stderr",
     "output_type": "stream",
     "text": [
      "WARNING:pypot.dynamixel.error:Communication error after sending DxlSyncReadDataPacket(ids=[11, 12, 13, 31, 32, 33, 34, 21, 22, 23, 24, 41, 42, 43, 44, 45, 46, 51, 52, 53, 54, 55, 56], address=6, length=4)\n",
      "WARNING:pypot.dynamixel.error:Communication error after sending DxlSyncReadDataPacket(ids=[11, 12, 13, 31, 32, 33, 34, 21, 22, 23, 24, 41, 42, 43, 44, 45, 46, 51, 52, 53, 54, 55, 56], address=6, length=4)\n",
      "WARNING:pypot.dynamixel.error:Timeout after sending DxlSyncReadDataPacket(ids=[11, 12, 13, 31, 32, 33, 34, 21, 22, 23, 24, 41, 42, 43, 44, 45, 46, 51, 52, 53, 54, 55, 56], address=37, length=6) to motors 254\n",
      "WARNING:pypot.dynamixel.error:Communication error after sending DxlSyncReadDataPacket(ids=[11, 12, 13, 31, 32, 33, 34, 21, 22, 23, 24, 41, 42, 43, 44, 45, 46, 51, 52, 53, 54, 55, 56], address=6, length=4)\n"
     ]
    }
   ],
   "source": [
    "fendi.stand.start()"
   ]
  },
  {
   "cell_type": "markdown",
   "metadata": {},
   "source": [
    "Faire un signe de la main"
   ]
  },
  {
   "cell_type": "code",
   "execution_count": 4,
   "metadata": {
    "collapsed": false
   },
   "outputs": [
    {
     "name": "stderr",
     "output_type": "stream",
     "text": [
      "WARNING:pypot.dynamixel.error:Timeout after sending DxlSyncReadDataPacket(ids=[11, 12, 13, 31, 32, 33, 34, 21, 22, 23, 24, 41, 42, 43, 44, 45, 46, 51, 52, 53, 54, 55, 56], address=6, length=4) to motors 254\n",
      "WARNING:pypot.dynamixel.error:Communication error after sending DxlSyncReadDataPacket(ids=[11, 12, 13, 31, 32, 33, 34, 21, 22, 23, 24, 41, 42, 43, 44, 45, 46, 51, 52, 53, 54, 55, 56], address=6, length=4)\n",
      "WARNING:pypot.dynamixel.error:Timeout after sending DxlSyncReadDataPacket(ids=[11, 12, 13, 31, 32, 33, 34, 21, 22, 23, 24, 41, 42, 43, 44, 45, 46, 51, 52, 53, 54, 55, 56], address=45, length=1) to motors 254\n",
      "WARNING:pypot.dynamixel.error:Communication error after sending DxlSyncReadDataPacket(ids=[11, 12, 13, 31, 32, 33, 34, 21, 22, 23, 24, 41, 42, 43, 44, 45, 46, 51, 52, 53, 54, 55, 56], address=6, length=4)\n",
      "WARNING:pypot.dynamixel.error:Communication error after sending DxlSyncReadDataPacket(ids=[11, 12, 13, 31, 32, 33, 34, 21, 22, 23, 24, 41, 42, 43, 44, 45, 46, 51, 52, 53, 54, 55, 56], address=37, length=6)\n",
      "WARNING:pypot.dynamixel.error:Timeout after sending DxlSyncReadDataPacket(ids=[11, 12, 13, 31, 32, 33, 34, 21, 22, 23, 24, 41, 42, 43, 44, 45, 46, 51, 52, 53, 54, 55, 56], address=6, length=4) to motors 254\n",
      "WARNING:pypot.dynamixel.error:Communication error after sending DxlSyncReadDataPacket(ids=[11, 12, 13, 31, 32, 33, 34, 21, 22, 23, 24, 41, 42, 43, 44, 45, 46, 51, 52, 53, 54, 55, 56], address=6, length=4)\n",
      "WARNING:pypot.dynamixel.error:Communication error after sending DxlSyncReadDataPacket(ids=[11, 12, 13, 31, 32, 33, 34, 21, 22, 23, 24, 41, 42, 43, 44, 45, 46, 51, 52, 53, 54, 55, 56], address=6, length=4)\n",
      "WARNING:pypot.dynamixel.error:Timeout after sending DxlSyncReadDataPacket(ids=[11, 12, 13, 31, 32, 33, 34, 21, 22, 23, 24, 41, 42, 43, 44, 45, 46, 51, 52, 53, 54, 55, 56], address=6, length=4) to motors 254\n",
      "WARNING:pypot.dynamixel.error:Communication error after sending DxlSyncReadDataPacket(ids=[11, 12, 13, 31, 32, 33, 34, 21, 22, 23, 24, 41, 42, 43, 44, 45, 46, 51, 52, 53, 54, 55, 56], address=6, length=4)\n",
      "WARNING:pypot.dynamixel.error:Communication error after sending DxlSyncReadDataPacket(ids=[11, 12, 13, 31, 32, 33, 34, 21, 22, 23, 24, 41, 42, 43, 44, 45, 46, 51, 52, 53, 54, 55, 56], address=6, length=4)\n",
      "WARNING:pypot.dynamixel.error:Communication error after sending DxlSyncReadDataPacket(ids=[11, 12, 13, 31, 32, 33, 34, 21, 22, 23, 24, 41, 42, 43, 44, 45, 46, 51, 52, 53, 54, 55, 56], address=6, length=4)\n"
     ]
    }
   ],
   "source": [
    "fendi.wave.start()"
   ]
  },
  {
   "cell_type": "markdown",
   "metadata": {
    "collapsed": true
   },
   "source": [
    "## Enregistrer des mouvements"
   ]
  },
  {
   "cell_type": "markdown",
   "metadata": {},
   "source": [
    "Importe les outils nécessaires pour enregistrer et jouer des mouvements"
   ]
  },
  {
   "cell_type": "code",
   "execution_count": 5,
   "metadata": {
    "collapsed": false
   },
   "outputs": [
    {
     "name": "stderr",
     "output_type": "stream",
     "text": [
      "WARNING:pypot.dynamixel.error:Communication error after sending DxlSyncReadDataPacket(ids=[11, 12, 13, 31, 32, 33, 34, 21, 22, 23, 24, 41, 42, 43, 44, 45, 46, 51, 52, 53, 54, 55, 56], address=6, length=4)\n",
      "WARNING:pypot.dynamixel.error:Communication error after sending DxlSyncReadDataPacket(ids=[11, 12, 13, 31, 32, 33, 34, 21, 22, 23, 24, 41, 42, 43, 44, 45, 46, 51, 52, 53, 54, 55, 56], address=6, length=4)\n",
      "WARNING:pypot.dynamixel.error:Communication error after sending DxlSyncReadDataPacket(ids=[11, 12, 13, 31, 32, 33, 34, 21, 22, 23, 24, 41, 42, 43, 44, 45, 46, 51, 52, 53, 54, 55, 56], address=6, length=4)\n",
      "WARNING:pypot.dynamixel.error:Communication error after sending DxlSyncReadDataPacket(ids=[11, 12, 13, 31, 32, 33, 34, 21, 22, 23, 24, 41, 42, 43, 44, 45, 46, 51, 52, 53, 54, 55, 56], address=6, length=4)\n",
      "WARNING:pypot.dynamixel.error:Communication error after sending DxlSyncReadDataPacket(ids=[11, 12, 13, 31, 32, 33, 34, 21, 22, 23, 24, 41, 42, 43, 44, 45, 46, 51, 52, 53, 54, 55, 56], address=6, length=4)\n"
     ]
    }
   ],
   "source": [
    "from pypot.primitive.move import *"
   ]
  },
  {
   "cell_type": "code",
   "execution_count": 6,
   "metadata": {
    "collapsed": false
   },
   "outputs": [
    {
     "name": "stderr",
     "output_type": "stream",
     "text": [
      "WARNING:pypot.dynamixel.error:Communication error after sending DxlSyncReadDataPacket(ids=[11, 12, 13, 31, 32, 33, 34, 21, 22, 23, 24, 41, 42, 43, 44, 45, 46, 51, 52, 53, 54, 55, 56], address=6, length=4)\n",
      "WARNING:pypot.dynamixel.error:Communication error after sending DxlSyncReadDataPacket(ids=[11, 12, 13, 31, 32, 33, 34, 21, 22, 23, 24, 41, 42, 43, 44, 45, 46, 51, 52, 53, 54, 55, 56], address=6, length=4)\n",
      "WARNING:pypot.dynamixel.error:Communication error after sending DxlSyncReadDataPacket(ids=[11, 12, 13, 31, 32, 33, 34, 21, 22, 23, 24, 41, 42, 43, 44, 45, 46, 51, 52, 53, 54, 55, 56], address=6, length=4)\n",
      "WARNING:pypot.dynamixel.error:Communication error after sending DxlSyncReadDataPacket(ids=[11, 12, 13, 31, 32, 33, 34, 21, 22, 23, 24, 41, 42, 43, 44, 45, 46, 51, 52, 53, 54, 55, 56], address=46, length=1)\n",
      "WARNING:pypot.dynamixel.error:Communication error after sending DxlSyncReadDataPacket(ids=[11, 12, 13, 31, 32, 33, 34, 21, 22, 23, 24, 41, 42, 43, 44, 45, 46, 51, 52, 53, 54, 55, 56], address=45, length=1)\n",
      "WARNING:pypot.dynamixel.error:Communication error after sending DxlSyncReadDataPacket(ids=[11, 12, 13, 31, 32, 33, 34, 21, 22, 23, 24, 41, 42, 43, 44, 45, 46, 51, 52, 53, 54, 55, 56], address=6, length=4)\n",
      "WARNING:pypot.dynamixel.error:Communication error after sending DxlSyncReadDataPacket(ids=[11, 12, 13, 31, 32, 33, 34, 21, 22, 23, 24, 41, 42, 43, 44, 45, 46, 51, 52, 53, 54, 55, 56], address=46, length=1)\n",
      "WARNING:pypot.dynamixel.error:Communication error after sending DxlSyncReadDataPacket(ids=[11, 12, 13, 31, 32, 33, 34, 21, 22, 23, 24, 41, 42, 43, 44, 45, 46, 51, 52, 53, 54, 55, 56], address=6, length=4)\n",
      "WARNING:pypot.dynamixel.error:Communication error after sending DxlSyncReadDataPacket(ids=[11, 12, 13, 31, 32, 33, 34, 21, 22, 23, 24, 41, 42, 43, 44, 45, 46, 51, 52, 53, 54, 55, 56], address=45, length=1)\n",
      "WARNING:pypot.dynamixel.error:Communication error after sending DxlSyncReadDataPacket(ids=[11, 12, 13, 31, 32, 33, 34, 21, 22, 23, 24, 41, 42, 43, 44, 45, 46, 51, 52, 53, 54, 55, 56], address=6, length=4)\n",
      "WARNING:pypot.dynamixel.error:Communication error after sending DxlSyncReadDataPacket(ids=[11, 12, 13, 31, 32, 33, 34, 21, 22, 23, 24, 41, 42, 43, 44, 45, 46, 51, 52, 53, 54, 55, 56], address=46, length=1)\n",
      "WARNING:pypot.dynamixel.error:Communication error after sending DxlSyncReadDataPacket(ids=[11, 12, 13, 31, 32, 33, 34, 21, 22, 23, 24, 41, 42, 43, 44, 45, 46, 51, 52, 53, 54, 55, 56], address=45, length=1)\n",
      "WARNING:pypot.dynamixel.error:Communication error after sending DxlSyncReadDataPacket(ids=[11, 12, 13, 31, 32, 33, 34, 21, 22, 23, 24, 41, 42, 43, 44, 45, 46, 51, 52, 53, 54, 55, 56], address=6, length=4)\n"
     ]
    }
   ],
   "source": [
    "rec = MoveRecorder(fendi, 50, fendi.l_arm) # créer un enregistreur à 50Hz des moteurs du bras gauche du robot"
   ]
  },
  {
   "cell_type": "markdown",
   "metadata": {},
   "source": [
    "Passe les moteurs en compliant pour pouvoir les bouger"
   ]
  },
  {
   "cell_type": "code",
   "execution_count": 17,
   "metadata": {
    "collapsed": false
   },
   "outputs": [
    {
     "name": "stderr",
     "output_type": "stream",
     "text": [
      "WARNING:pypot.dynamixel.error:Communication error after sending DxlSyncReadDataPacket(ids=[11, 12, 13, 31, 32, 33, 34, 21, 22, 23, 24, 41, 42, 43, 44, 45, 46, 51, 52, 53, 54, 55, 56], address=6, length=4)\n",
      "WARNING:pypot.dynamixel.error:Communication error after sending DxlSyncReadDataPacket(ids=[11, 12, 13, 31, 32, 33, 34, 21, 22, 23, 24, 41, 42, 43, 44, 45, 46, 51, 52, 53, 54, 55, 56], address=6, length=4)\n",
      "WARNING:pypot.dynamixel.error:Communication error after sending DxlSyncReadDataPacket(ids=[11, 12, 13, 31, 32, 33, 34, 21, 22, 23, 24, 41, 42, 43, 44, 45, 46, 51, 52, 53, 54, 55, 56], address=6, length=4)\n",
      "WARNING:pypot.dynamixel.error:Communication error after sending DxlSyncReadDataPacket(ids=[11, 12, 13, 31, 32, 33, 34, 21, 22, 23, 24, 41, 42, 43, 44, 45, 46, 51, 52, 53, 54, 55, 56], address=6, length=4)\n",
      "WARNING:pypot.dynamixel.error:Communication error after sending DxlSyncReadDataPacket(ids=[11, 12, 13, 31, 32, 33, 34, 21, 22, 23, 24, 41, 42, 43, 44, 45, 46, 51, 52, 53, 54, 55, 56], address=6, length=4)\n",
      "WARNING:pypot.dynamixel.error:Communication error after sending DxlSyncReadDataPacket(ids=[11, 12, 13, 31, 32, 33, 34, 21, 22, 23, 24, 41, 42, 43, 44, 45, 46, 51, 52, 53, 54, 55, 56], address=6, length=4)\n",
      "WARNING:pypot.dynamixel.error:Timeout after sending DxlSyncReadDataPacket(ids=[11, 12, 13, 31, 32, 33, 34, 21, 22, 23, 24, 41, 42, 43, 44, 45, 46, 51, 52, 53, 54, 55, 56], address=6, length=4) to motors 254\n",
      "WARNING:pypot.dynamixel.error:Communication error after sending DxlSyncReadDataPacket(ids=[11, 12, 13, 31, 32, 33, 34, 21, 22, 23, 24, 41, 42, 43, 44, 45, 46, 51, 52, 53, 54, 55, 56], address=37, length=6)\n",
      "WARNING:pypot.dynamixel.error:Communication error after sending DxlSyncReadDataPacket(ids=[11, 12, 13, 31, 32, 33, 34, 21, 22, 23, 24, 41, 42, 43, 44, 45, 46, 51, 52, 53, 54, 55, 56], address=6, length=4)\n",
      "WARNING:pypot.dynamixel.error:Communication error after sending DxlSyncReadDataPacket(ids=[11, 12, 13, 31, 32, 33, 34, 21, 22, 23, 24, 41, 42, 43, 44, 45, 46, 51, 52, 53, 54, 55, 56], address=6, length=4)\n",
      "WARNING:pypot.dynamixel.error:Communication error after sending DxlSyncReadDataPacket(ids=[11, 12, 13, 31, 32, 33, 34, 21, 22, 23, 24, 41, 42, 43, 44, 45, 46, 51, 52, 53, 54, 55, 56], address=6, length=4)\n",
      "WARNING:pypot.dynamixel.error:Timeout after sending DxlSyncReadDataPacket(ids=[11, 12, 13, 31, 32, 33, 34, 21, 22, 23, 24, 41, 42, 43, 44, 45, 46, 51, 52, 53, 54, 55, 56], address=6, length=4) to motors 254\n",
      "WARNING:pypot.dynamixel.error:Communication error after sending DxlSyncReadDataPacket(ids=[11, 12, 13, 31, 32, 33, 34, 21, 22, 23, 24, 41, 42, 43, 44, 45, 46, 51, 52, 53, 54, 55, 56], address=6, length=4)\n",
      "WARNING:pypot.dynamixel.error:Timeout after sending DxlSyncReadDataPacket(ids=[11, 12, 13, 31, 32, 33, 34, 21, 22, 23, 24, 41, 42, 43, 44, 45, 46, 51, 52, 53, 54, 55, 56], address=6, length=4) to motors 254\n",
      "WARNING:pypot.dynamixel.error:Communication error after sending DxlSyncReadDataPacket(ids=[11, 12, 13, 31, 32, 33, 34, 21, 22, 23, 24, 41, 42, 43, 44, 45, 46, 51, 52, 53, 54, 55, 56], address=6, length=4)\n",
      "WARNING:pypot.dynamixel.error:Communication error after sending DxlSyncReadDataPacket(ids=[11, 12, 13, 31, 32, 33, 34, 21, 22, 23, 24, 41, 42, 43, 44, 45, 46, 51, 52, 53, 54, 55, 56], address=45, length=1)\n",
      "WARNING:pypot.dynamixel.error:Communication error after sending DxlSyncReadDataPacket(ids=[11, 12, 13, 31, 32, 33, 34, 21, 22, 23, 24, 41, 42, 43, 44, 45, 46, 51, 52, 53, 54, 55, 56], address=37, length=6)\n",
      "WARNING:pypot.dynamixel.error:Communication error after sending DxlSyncReadDataPacket(ids=[11, 12, 13, 31, 32, 33, 34, 21, 22, 23, 24, 41, 42, 43, 44, 45, 46, 51, 52, 53, 54, 55, 56], address=46, length=1)\n",
      "WARNING:pypot.dynamixel.error:Timeout after sending DxlSyncReadDataPacket(ids=[11, 12, 13, 31, 32, 33, 34, 21, 22, 23, 24, 41, 42, 43, 44, 45, 46, 51, 52, 53, 54, 55, 56], address=37, length=6) to motors 254\n",
      "WARNING:pypot.dynamixel.error:Communication error after sending DxlSyncReadDataPacket(ids=[11, 12, 13, 31, 32, 33, 34, 21, 22, 23, 24, 41, 42, 43, 44, 45, 46, 51, 52, 53, 54, 55, 56], address=37, length=6)\n",
      "WARNING:pypot.dynamixel.error:Communication error after sending DxlSyncReadDataPacket(ids=[11, 12, 13, 31, 32, 33, 34, 21, 22, 23, 24, 41, 42, 43, 44, 45, 46, 51, 52, 53, 54, 55, 56], address=6, length=4)\n",
      "WARNING:pypot.dynamixel.error:Communication error after sending DxlSyncReadDataPacket(ids=[11, 12, 13, 31, 32, 33, 34, 21, 22, 23, 24, 41, 42, 43, 44, 45, 46, 51, 52, 53, 54, 55, 56], address=6, length=4)\n",
      "WARNING:pypot.dynamixel.error:Communication error after sending DxlSyncReadDataPacket(ids=[11, 12, 13, 31, 32, 33, 34, 21, 22, 23, 24, 41, 42, 43, 44, 45, 46, 51, 52, 53, 54, 55, 56], address=6, length=4)\n",
      "WARNING:pypot.dynamixel.error:Communication error after sending DxlSyncReadDataPacket(ids=[11, 12, 13, 31, 32, 33, 34, 21, 22, 23, 24, 41, 42, 43, 44, 45, 46, 51, 52, 53, 54, 55, 56], address=6, length=4)\n"
     ]
    }
   ],
   "source": [
    "for m in fendi.l_arm:\n",
    "    m.compliant = True"
   ]
  },
  {
   "cell_type": "markdown",
   "metadata": {},
   "source": [
    "Lancer l'enregistrement"
   ]
  },
  {
   "cell_type": "code",
   "execution_count": 18,
   "metadata": {
    "collapsed": false
   },
   "outputs": [
    {
     "name": "stderr",
     "output_type": "stream",
     "text": [
      "WARNING:pypot.dynamixel.error:Communication error after sending DxlSyncReadDataPacket(ids=[11, 12, 13, 31, 32, 33, 34, 21, 22, 23, 24, 41, 42, 43, 44, 45, 46, 51, 52, 53, 54, 55, 56], address=46, length=1)\n",
      "WARNING:pypot.dynamixel.error:Timeout after sending DxlSyncReadDataPacket(ids=[11, 12, 13, 31, 32, 33, 34, 21, 22, 23, 24, 41, 42, 43, 44, 45, 46, 51, 52, 53, 54, 55, 56], address=37, length=6) to motors 254\n",
      "WARNING:pypot.dynamixel.error:Timeout after sending DxlSyncReadDataPacket(ids=[11, 12, 13, 31, 32, 33, 34, 21, 22, 23, 24, 41, 42, 43, 44, 45, 46, 51, 52, 53, 54, 55, 56], address=37, length=6) to motors 254\n",
      "WARNING:pypot.dynamixel.error:Communication error after sending DxlSyncReadDataPacket(ids=[11, 12, 13, 31, 32, 33, 34, 21, 22, 23, 24, 41, 42, 43, 44, 45, 46, 51, 52, 53, 54, 55, 56], address=37, length=6)\n",
      "WARNING:pypot.dynamixel.error:Communication error after sending DxlSyncReadDataPacket(ids=[11, 12, 13, 31, 32, 33, 34, 21, 22, 23, 24, 41, 42, 43, 44, 45, 46, 51, 52, 53, 54, 55, 56], address=6, length=4)\n",
      "WARNING:pypot.dynamixel.error:Timeout after sending DxlSyncReadDataPacket(ids=[11, 12, 13, 31, 32, 33, 34, 21, 22, 23, 24, 41, 42, 43, 44, 45, 46, 51, 52, 53, 54, 55, 56], address=6, length=4) to motors 254\n",
      "WARNING:pypot.dynamixel.error:Communication error after sending DxlSyncReadDataPacket(ids=[11, 12, 13, 31, 32, 33, 34, 21, 22, 23, 24, 41, 42, 43, 44, 45, 46, 51, 52, 53, 54, 55, 56], address=6, length=4)\n",
      "WARNING:pypot.dynamixel.error:Communication error after sending DxlSyncReadDataPacket(ids=[11, 12, 13, 31, 32, 33, 34, 21, 22, 23, 24, 41, 42, 43, 44, 45, 46, 51, 52, 53, 54, 55, 56], address=46, length=1)\n",
      "WARNING:pypot.dynamixel.error:Communication error after sending DxlSyncReadDataPacket(ids=[11, 12, 13, 31, 32, 33, 34, 21, 22, 23, 24, 41, 42, 43, 44, 45, 46, 51, 52, 53, 54, 55, 56], address=6, length=4)\n",
      "WARNING:pypot.dynamixel.error:Communication error after sending DxlSyncReadDataPacket(ids=[11, 12, 13, 31, 32, 33, 34, 21, 22, 23, 24, 41, 42, 43, 44, 45, 46, 51, 52, 53, 54, 55, 56], address=6, length=4)\n",
      "WARNING:pypot.dynamixel.error:Communication error after sending DxlSyncReadDataPacket(ids=[11, 12, 13, 31, 32, 33, 34, 21, 22, 23, 24, 41, 42, 43, 44, 45, 46, 51, 52, 53, 54, 55, 56], address=46, length=1)\n",
      "WARNING:pypot.dynamixel.error:Timeout after sending DxlSyncReadDataPacket(ids=[11, 12, 13, 31, 32, 33, 34, 21, 22, 23, 24, 41, 42, 43, 44, 45, 46, 51, 52, 53, 54, 55, 56], address=6, length=4) to motors 254\n",
      "WARNING:pypot.dynamixel.error:Communication error after sending DxlSyncReadDataPacket(ids=[11, 12, 13, 31, 32, 33, 34, 21, 22, 23, 24, 41, 42, 43, 44, 45, 46, 51, 52, 53, 54, 55, 56], address=6, length=4)\n",
      "WARNING:pypot.dynamixel.error:Communication error after sending DxlSyncReadDataPacket(ids=[11, 12, 13, 31, 32, 33, 34, 21, 22, 23, 24, 41, 42, 43, 44, 45, 46, 51, 52, 53, 54, 55, 56], address=6, length=4)\n",
      "WARNING:pypot.dynamixel.error:Communication error after sending DxlSyncReadDataPacket(ids=[11, 12, 13, 31, 32, 33, 34, 21, 22, 23, 24, 41, 42, 43, 44, 45, 46, 51, 52, 53, 54, 55, 56], address=37, length=6)\n",
      "WARNING:pypot.dynamixel.error:Communication error after sending DxlSyncReadDataPacket(ids=[11, 12, 13, 31, 32, 33, 34, 21, 22, 23, 24, 41, 42, 43, 44, 45, 46, 51, 52, 53, 54, 55, 56], address=6, length=4)\n",
      "WARNING:pypot.dynamixel.error:Communication error after sending DxlSyncReadDataPacket(ids=[11, 12, 13, 31, 32, 33, 34, 21, 22, 23, 24, 41, 42, 43, 44, 45, 46, 51, 52, 53, 54, 55, 56], address=6, length=4)\n",
      "WARNING:pypot.dynamixel.error:Communication error after sending DxlSyncReadDataPacket(ids=[11, 12, 13, 31, 32, 33, 34, 21, 22, 23, 24, 41, 42, 43, 44, 45, 46, 51, 52, 53, 54, 55, 56], address=6, length=4)\n",
      "WARNING:pypot.dynamixel.error:Communication error after sending DxlSyncReadDataPacket(ids=[11, 12, 13, 31, 32, 33, 34, 21, 22, 23, 24, 41, 42, 43, 44, 45, 46, 51, 52, 53, 54, 55, 56], address=6, length=4)\n"
     ]
    }
   ],
   "source": [
    "rec.start() # tous les mouvements sont enregistrés à partir de ce moment"
   ]
  },
  {
   "cell_type": "code",
   "execution_count": 19,
   "metadata": {
    "collapsed": false
   },
   "outputs": [
    {
     "name": "stderr",
     "output_type": "stream",
     "text": [
      "WARNING:pypot.dynamixel.error:Communication error after sending DxlSyncReadDataPacket(ids=[11, 12, 13, 31, 32, 33, 34, 21, 22, 23, 24, 41, 42, 43, 44, 45, 46, 51, 52, 53, 54, 55, 56], address=37, length=6)\n",
      "WARNING:pypot.dynamixel.error:Communication error after sending DxlSyncReadDataPacket(ids=[11, 12, 13, 31, 32, 33, 34, 21, 22, 23, 24, 41, 42, 43, 44, 45, 46, 51, 52, 53, 54, 55, 56], address=6, length=4)\n",
      "WARNING:pypot.dynamixel.error:Communication error after sending DxlSyncReadDataPacket(ids=[11, 12, 13, 31, 32, 33, 34, 21, 22, 23, 24, 41, 42, 43, 44, 45, 46, 51, 52, 53, 54, 55, 56], address=6, length=4)\n",
      "WARNING:pypot.dynamixel.error:Communication error after sending DxlSyncReadDataPacket(ids=[11, 12, 13, 31, 32, 33, 34, 21, 22, 23, 24, 41, 42, 43, 44, 45, 46, 51, 52, 53, 54, 55, 56], address=6, length=4)\n",
      "WARNING:pypot.dynamixel.error:Communication error after sending DxlSyncReadDataPacket(ids=[11, 12, 13, 31, 32, 33, 34, 21, 22, 23, 24, 41, 42, 43, 44, 45, 46, 51, 52, 53, 54, 55, 56], address=6, length=4)\n"
     ]
    }
   ],
   "source": [
    "rec.stop() # arrête l'enregistrement"
   ]
  },
  {
   "cell_type": "markdown",
   "metadata": {},
   "source": [
    "## Rejouer un mouvement"
   ]
  },
  {
   "cell_type": "code",
   "execution_count": 20,
   "metadata": {
    "collapsed": false
   },
   "outputs": [
    {
     "name": "stderr",
     "output_type": "stream",
     "text": [
      "WARNING:pypot.dynamixel.error:Communication error after sending DxlSyncReadDataPacket(ids=[11, 12, 13, 31, 32, 33, 34, 21, 22, 23, 24, 41, 42, 43, 44, 45, 46, 51, 52, 53, 54, 55, 56], address=6, length=4)\n",
      "WARNING:pypot.dynamixel.error:Communication error after sending DxlSyncReadDataPacket(ids=[11, 12, 13, 31, 32, 33, 34, 21, 22, 23, 24, 41, 42, 43, 44, 45, 46, 51, 52, 53, 54, 55, 56], address=6, length=4)\n",
      "WARNING:pypot.dynamixel.error:Communication error after sending DxlSyncReadDataPacket(ids=[11, 12, 13, 31, 32, 33, 34, 21, 22, 23, 24, 41, 42, 43, 44, 45, 46, 51, 52, 53, 54, 55, 56], address=6, length=4)\n"
     ]
    }
   ],
   "source": [
    "move = rec.move # recupere le dernier mouvement enregistre"
   ]
  },
  {
   "cell_type": "markdown",
   "metadata": {},
   "source": [
    "Creer un player "
   ]
  },
  {
   "cell_type": "code",
   "execution_count": 21,
   "metadata": {
    "collapsed": false
   },
   "outputs": [
    {
     "name": "stderr",
     "output_type": "stream",
     "text": [
      "WARNING:pypot.dynamixel.error:Communication error after sending DxlSyncReadDataPacket(ids=[11, 12, 13, 31, 32, 33, 34, 21, 22, 23, 24, 41, 42, 43, 44, 45, 46, 51, 52, 53, 54, 55, 56], address=6, length=4)\n",
      "WARNING:pypot.dynamixel.error:Communication error after sending DxlSyncReadDataPacket(ids=[11, 12, 13, 31, 32, 33, 34, 21, 22, 23, 24, 41, 42, 43, 44, 45, 46, 51, 52, 53, 54, 55, 56], address=37, length=6)\n",
      "WARNING:pypot.dynamixel.error:Communication error after sending DxlSyncReadDataPacket(ids=[11, 12, 13, 31, 32, 33, 34, 21, 22, 23, 24, 41, 42, 43, 44, 45, 46, 51, 52, 53, 54, 55, 56], address=6, length=4)\n",
      "WARNING:pypot.dynamixel.error:Communication error after sending DxlSyncReadDataPacket(ids=[11, 12, 13, 31, 32, 33, 34, 21, 22, 23, 24, 41, 42, 43, 44, 45, 46, 51, 52, 53, 54, 55, 56], address=6, length=4)\n",
      "WARNING:pypot.dynamixel.error:Timeout after sending DxlSyncReadDataPacket(ids=[11, 12, 13, 31, 32, 33, 34, 21, 22, 23, 24, 41, 42, 43, 44, 45, 46, 51, 52, 53, 54, 55, 56], address=37, length=6) to motors 254\n",
      "WARNING:pypot.dynamixel.error:Timeout after sending DxlSyncReadDataPacket(ids=[11, 12, 13, 31, 32, 33, 34, 21, 22, 23, 24, 41, 42, 43, 44, 45, 46, 51, 52, 53, 54, 55, 56], address=6, length=4) to motors 254\n",
      "WARNING:pypot.dynamixel.error:Communication error after sending DxlSyncReadDataPacket(ids=[11, 12, 13, 31, 32, 33, 34, 21, 22, 23, 24, 41, 42, 43, 44, 45, 46, 51, 52, 53, 54, 55, 56], address=45, length=1)\n",
      "WARNING:pypot.dynamixel.error:Communication error after sending DxlSyncReadDataPacket(ids=[11, 12, 13, 31, 32, 33, 34, 21, 22, 23, 24, 41, 42, 43, 44, 45, 46, 51, 52, 53, 54, 55, 56], address=6, length=4)\n",
      "WARNING:pypot.dynamixel.error:Communication error after sending DxlSyncReadDataPacket(ids=[11, 12, 13, 31, 32, 33, 34, 21, 22, 23, 24, 41, 42, 43, 44, 45, 46, 51, 52, 53, 54, 55, 56], address=46, length=1)\n",
      "WARNING:pypot.dynamixel.error:Communication error after sending DxlSyncReadDataPacket(ids=[11, 12, 13, 31, 32, 33, 34, 21, 22, 23, 24, 41, 42, 43, 44, 45, 46, 51, 52, 53, 54, 55, 56], address=6, length=4)\n",
      "WARNING:pypot.dynamixel.error:Communication error after sending DxlSyncReadDataPacket(ids=[11, 12, 13, 31, 32, 33, 34, 21, 22, 23, 24, 41, 42, 43, 44, 45, 46, 51, 52, 53, 54, 55, 56], address=37, length=6)\n",
      "WARNING:pypot.dynamixel.error:Communication error after sending DxlSyncReadDataPacket(ids=[11, 12, 13, 31, 32, 33, 34, 21, 22, 23, 24, 41, 42, 43, 44, 45, 46, 51, 52, 53, 54, 55, 56], address=45, length=1)\n",
      "WARNING:pypot.dynamixel.error:Communication error after sending DxlSyncReadDataPacket(ids=[11, 12, 13, 31, 32, 33, 34, 21, 22, 23, 24, 41, 42, 43, 44, 45, 46, 51, 52, 53, 54, 55, 56], address=6, length=4)\n",
      "WARNING:pypot.dynamixel.error:Communication error after sending DxlSyncReadDataPacket(ids=[11, 12, 13, 31, 32, 33, 34, 21, 22, 23, 24, 41, 42, 43, 44, 45, 46, 51, 52, 53, 54, 55, 56], address=6, length=4)\n"
     ]
    }
   ],
   "source": [
    "player = MovePlayer(fendi, move) "
   ]
  },
  {
   "cell_type": "code",
   "execution_count": 22,
   "metadata": {
    "collapsed": false
   },
   "outputs": [
    {
     "name": "stderr",
     "output_type": "stream",
     "text": [
      "WARNING:pypot.dynamixel.error:Communication error after sending DxlSyncReadDataPacket(ids=[11, 12, 13, 31, 32, 33, 34, 21, 22, 23, 24, 41, 42, 43, 44, 45, 46, 51, 52, 53, 54, 55, 56], address=6, length=4)\n",
      "WARNING:pypot.dynamixel.error:Communication error after sending DxlSyncReadDataPacket(ids=[11, 12, 13, 31, 32, 33, 34, 21, 22, 23, 24, 41, 42, 43, 44, 45, 46, 51, 52, 53, 54, 55, 56], address=37, length=6)\n",
      "WARNING:pypot.dynamixel.error:Timeout after sending DxlSyncReadDataPacket(ids=[11, 12, 13, 31, 32, 33, 34, 21, 22, 23, 24, 41, 42, 43, 44, 45, 46, 51, 52, 53, 54, 55, 56], address=6, length=4) to motors 254\n",
      "WARNING:pypot.dynamixel.error:Communication error after sending DxlSyncReadDataPacket(ids=[11, 12, 13, 31, 32, 33, 34, 21, 22, 23, 24, 41, 42, 43, 44, 45, 46, 51, 52, 53, 54, 55, 56], address=6, length=4)\n",
      "WARNING:pypot.dynamixel.error:Communication error after sending DxlSyncReadDataPacket(ids=[11, 12, 13, 31, 32, 33, 34, 21, 22, 23, 24, 41, 42, 43, 44, 45, 46, 51, 52, 53, 54, 55, 56], address=6, length=4)\n",
      "WARNING:pypot.dynamixel.error:Communication error after sending DxlSyncReadDataPacket(ids=[11, 12, 13, 31, 32, 33, 34, 21, 22, 23, 24, 41, 42, 43, 44, 45, 46, 51, 52, 53, 54, 55, 56], address=6, length=4)\n",
      "WARNING:pypot.dynamixel.error:Communication error after sending DxlSyncReadDataPacket(ids=[11, 12, 13, 31, 32, 33, 34, 21, 22, 23, 24, 41, 42, 43, 44, 45, 46, 51, 52, 53, 54, 55, 56], address=6, length=4)\n",
      "WARNING:pypot.dynamixel.error:Communication error after sending DxlSyncReadDataPacket(ids=[11, 12, 13, 31, 32, 33, 34, 21, 22, 23, 24, 41, 42, 43, 44, 45, 46, 51, 52, 53, 54, 55, 56], address=6, length=4)\n",
      "WARNING:pypot.dynamixel.error:Communication error after sending DxlSyncReadDataPacket(ids=[11, 12, 13, 31, 32, 33, 34, 21, 22, 23, 24, 41, 42, 43, 44, 45, 46, 51, 52, 53, 54, 55, 56], address=6, length=4)\n",
      "WARNING:pypot.dynamixel.error:Communication error after sending DxlSyncReadDataPacket(ids=[11, 12, 13, 31, 32, 33, 34, 21, 22, 23, 24, 41, 42, 43, 44, 45, 46, 51, 52, 53, 54, 55, 56], address=37, length=6)\n",
      "WARNING:pypot.dynamixel.error:Communication error after sending DxlSyncReadDataPacket(ids=[11, 12, 13, 31, 32, 33, 34, 21, 22, 23, 24, 41, 42, 43, 44, 45, 46, 51, 52, 53, 54, 55, 56], address=6, length=4)\n",
      "WARNING:pypot.dynamixel.error:Communication error after sending DxlSyncReadDataPacket(ids=[11, 12, 13, 31, 32, 33, 34, 21, 22, 23, 24, 41, 42, 43, 44, 45, 46, 51, 52, 53, 54, 55, 56], address=45, length=1)\n",
      "WARNING:pypot.dynamixel.error:Communication error after sending DxlSyncReadDataPacket(ids=[11, 12, 13, 31, 32, 33, 34, 21, 22, 23, 24, 41, 42, 43, 44, 45, 46, 51, 52, 53, 54, 55, 56], address=46, length=1)\n",
      "WARNING:pypot.dynamixel.error:Communication error after sending DxlSyncReadDataPacket(ids=[11, 12, 13, 31, 32, 33, 34, 21, 22, 23, 24, 41, 42, 43, 44, 45, 46, 51, 52, 53, 54, 55, 56], address=6, length=4)\n",
      "WARNING:pypot.dynamixel.error:Communication error after sending DxlSyncReadDataPacket(ids=[11, 12, 13, 31, 32, 33, 34, 21, 22, 23, 24, 41, 42, 43, 44, 45, 46, 51, 52, 53, 54, 55, 56], address=6, length=4)\n",
      "WARNING:pypot.dynamixel.error:Communication error after sending DxlSyncReadDataPacket(ids=[11, 12, 13, 31, 32, 33, 34, 21, 22, 23, 24, 41, 42, 43, 44, 45, 46, 51, 52, 53, 54, 55, 56], address=6, length=4)\n",
      "WARNING:pypot.dynamixel.error:Communication error after sending DxlSyncReadDataPacket(ids=[11, 12, 13, 31, 32, 33, 34, 21, 22, 23, 24, 41, 42, 43, 44, 45, 46, 51, 52, 53, 54, 55, 56], address=6, length=4)\n",
      "WARNING:pypot.dynamixel.error:Communication error after sending DxlSyncReadDataPacket(ids=[11, 12, 13, 31, 32, 33, 34, 21, 22, 23, 24, 41, 42, 43, 44, 45, 46, 51, 52, 53, 54, 55, 56], address=6, length=4)\n",
      "WARNING:pypot.dynamixel.error:Communication error after sending DxlSyncReadDataPacket(ids=[11, 12, 13, 31, 32, 33, 34, 21, 22, 23, 24, 41, 42, 43, 44, 45, 46, 51, 52, 53, 54, 55, 56], address=6, length=4)\n",
      "WARNING:pypot.dynamixel.error:Communication error after sending DxlSyncReadDataPacket(ids=[11, 12, 13, 31, 32, 33, 34, 21, 22, 23, 24, 41, 42, 43, 44, 45, 46, 51, 52, 53, 54, 55, 56], address=6, length=4)\n",
      "WARNING:pypot.dynamixel.error:Timeout after sending DxlSyncReadDataPacket(ids=[11, 12, 13, 31, 32, 33, 34, 21, 22, 23, 24, 41, 42, 43, 44, 45, 46, 51, 52, 53, 54, 55, 56], address=6, length=4) to motors 254\n",
      "WARNING:pypot.dynamixel.error:Communication error after sending DxlSyncReadDataPacket(ids=[11, 12, 13, 31, 32, 33, 34, 21, 22, 23, 24, 41, 42, 43, 44, 45, 46, 51, 52, 53, 54, 55, 56], address=6, length=4)\n",
      "WARNING:pypot.dynamixel.error:Communication error after sending DxlSyncReadDataPacket(ids=[11, 12, 13, 31, 32, 33, 34, 21, 22, 23, 24, 41, 42, 43, 44, 45, 46, 51, 52, 53, 54, 55, 56], address=37, length=6)\n"
     ]
    }
   ],
   "source": [
    "player.start()"
   ]
  },
  {
   "cell_type": "markdown",
   "metadata": {},
   "source": [
    "Arreter le mouvement"
   ]
  },
  {
   "cell_type": "code",
   "execution_count": 13,
   "metadata": {
    "collapsed": false
   },
   "outputs": [
    {
     "name": "stderr",
     "output_type": "stream",
     "text": [
      "WARNING:pypot.dynamixel.error:Communication error after sending DxlSyncReadDataPacket(ids=[11, 12, 13, 31, 32, 33, 34, 21, 22, 23, 24, 41, 42, 43, 44, 45, 46, 51, 52, 53, 54, 55, 56], address=6, length=4)\n",
      "WARNING:pypot.dynamixel.error:Communication error after sending DxlSyncReadDataPacket(ids=[11, 12, 13, 31, 32, 33, 34, 21, 22, 23, 24, 41, 42, 43, 44, 45, 46, 51, 52, 53, 54, 55, 56], address=6, length=4)\n",
      "WARNING:pypot.dynamixel.error:Communication error after sending DxlSyncReadDataPacket(ids=[11, 12, 13, 31, 32, 33, 34, 21, 22, 23, 24, 41, 42, 43, 44, 45, 46, 51, 52, 53, 54, 55, 56], address=6, length=4)\n",
      "WARNING:pypot.dynamixel.error:Communication error after sending DxlSyncReadDataPacket(ids=[11, 12, 13, 31, 32, 33, 34, 21, 22, 23, 24, 41, 42, 43, 44, 45, 46, 51, 52, 53, 54, 55, 56], address=46, length=1)\n",
      "WARNING:pypot.dynamixel.error:Communication error after sending DxlSyncReadDataPacket(ids=[11, 12, 13, 31, 32, 33, 34, 21, 22, 23, 24, 41, 42, 43, 44, 45, 46, 51, 52, 53, 54, 55, 56], address=6, length=4)\n"
     ]
    }
   ],
   "source": [
    "player.stop()"
   ]
  },
  {
   "cell_type": "markdown",
   "metadata": {},
   "source": [
    "## Sauvegarder le mouvement sur le disque"
   ]
  },
  {
   "cell_type": "code",
   "execution_count": 23,
   "metadata": {
    "collapsed": false,
    "scrolled": true
   },
   "outputs": [
    {
     "name": "stderr",
     "output_type": "stream",
     "text": [
      "WARNING:pypot.dynamixel.error:Communication error after sending DxlSyncReadDataPacket(ids=[11, 12, 13, 31, 32, 33, 34, 21, 22, 23, 24, 41, 42, 43, 44, 45, 46, 51, 52, 53, 54, 55, 56], address=6, length=4)\n",
      "WARNING:pypot.dynamixel.error:Communication error after sending DxlSyncReadDataPacket(ids=[11, 12, 13, 31, 32, 33, 34, 21, 22, 23, 24, 41, 42, 43, 44, 45, 46, 51, 52, 53, 54, 55, 56], address=6, length=4)\n",
      "WARNING:pypot.dynamixel.error:Timeout after sending DxlSyncReadDataPacket(ids=[11, 12, 13, 31, 32, 33, 34, 21, 22, 23, 24, 41, 42, 43, 44, 45, 46, 51, 52, 53, 54, 55, 56], address=46, length=1) to motors 254\n",
      "WARNING:pypot.dynamixel.error:Communication error after sending DxlSyncReadDataPacket(ids=[11, 12, 13, 31, 32, 33, 34, 21, 22, 23, 24, 41, 42, 43, 44, 45, 46, 51, 52, 53, 54, 55, 56], address=6, length=4)\n",
      "WARNING:pypot.dynamixel.error:Communication error after sending DxlSyncReadDataPacket(ids=[11, 12, 13, 31, 32, 33, 34, 21, 22, 23, 24, 41, 42, 43, 44, 45, 46, 51, 52, 53, 54, 55, 56], address=6, length=4)\n",
      "WARNING:pypot.dynamixel.error:Communication error after sending DxlSyncReadDataPacket(ids=[11, 12, 13, 31, 32, 33, 34, 21, 22, 23, 24, 41, 42, 43, 44, 45, 46, 51, 52, 53, 54, 55, 56], address=45, length=1)\n",
      "WARNING:pypot.dynamixel.error:Communication error after sending DxlSyncReadDataPacket(ids=[11, 12, 13, 31, 32, 33, 34, 21, 22, 23, 24, 41, 42, 43, 44, 45, 46, 51, 52, 53, 54, 55, 56], address=6, length=4)\n",
      "WARNING:pypot.dynamixel.error:Communication error after sending DxlSyncReadDataPacket(ids=[11, 12, 13, 31, 32, 33, 34, 21, 22, 23, 24, 41, 42, 43, 44, 45, 46, 51, 52, 53, 54, 55, 56], address=6, length=4)\n",
      "WARNING:pypot.dynamixel.error:Communication error after sending DxlSyncReadDataPacket(ids=[11, 12, 13, 31, 32, 33, 34, 21, 22, 23, 24, 41, 42, 43, 44, 45, 46, 51, 52, 53, 54, 55, 56], address=6, length=4)\n",
      "WARNING:pypot.dynamixel.error:Communication error after sending DxlSyncReadDataPacket(ids=[11, 12, 13, 31, 32, 33, 34, 21, 22, 23, 24, 41, 42, 43, 44, 45, 46, 51, 52, 53, 54, 55, 56], address=6, length=4)\n",
      "WARNING:pypot.dynamixel.error:Timeout after sending DxlSyncReadDataPacket(ids=[11, 12, 13, 31, 32, 33, 34, 21, 22, 23, 24, 41, 42, 43, 44, 45, 46, 51, 52, 53, 54, 55, 56], address=46, length=1) to motors 254\n",
      "WARNING:pypot.dynamixel.error:Communication error after sending DxlSyncReadDataPacket(ids=[11, 12, 13, 31, 32, 33, 34, 21, 22, 23, 24, 41, 42, 43, 44, 45, 46, 51, 52, 53, 54, 55, 56], address=6, length=4)\n",
      "WARNING:pypot.dynamixel.error:Timeout after sending DxlSyncReadDataPacket(ids=[11, 12, 13, 31, 32, 33, 34, 21, 22, 23, 24, 41, 42, 43, 44, 45, 46, 51, 52, 53, 54, 55, 56], address=6, length=4) to motors 254\n",
      "WARNING:pypot.dynamixel.error:Communication error after sending DxlSyncReadDataPacket(ids=[11, 12, 13, 31, 32, 33, 34, 21, 22, 23, 24, 41, 42, 43, 44, 45, 46, 51, 52, 53, 54, 55, 56], address=6, length=4)\n",
      "WARNING:pypot.dynamixel.error:Communication error after sending DxlSyncReadDataPacket(ids=[11, 12, 13, 31, 32, 33, 34, 21, 22, 23, 24, 41, 42, 43, 44, 45, 46, 51, 52, 53, 54, 55, 56], address=6, length=4)\n",
      "WARNING:pypot.dynamixel.error:Communication error after sending DxlSyncReadDataPacket(ids=[11, 12, 13, 31, 32, 33, 34, 21, 22, 23, 24, 41, 42, 43, 44, 45, 46, 51, 52, 53, 54, 55, 56], address=37, length=6)\n",
      "WARNING:pypot.dynamixel.error:Communication error after sending DxlSyncReadDataPacket(ids=[11, 12, 13, 31, 32, 33, 34, 21, 22, 23, 24, 41, 42, 43, 44, 45, 46, 51, 52, 53, 54, 55, 56], address=6, length=4)\n",
      "WARNING:pypot.dynamixel.error:Communication error after sending DxlSyncReadDataPacket(ids=[11, 12, 13, 31, 32, 33, 34, 21, 22, 23, 24, 41, 42, 43, 44, 45, 46, 51, 52, 53, 54, 55, 56], address=6, length=4)\n",
      "WARNING:pypot.dynamixel.error:Communication error after sending DxlSyncReadDataPacket(ids=[11, 12, 13, 31, 32, 33, 34, 21, 22, 23, 24, 41, 42, 43, 44, 45, 46, 51, 52, 53, 54, 55, 56], address=45, length=1)\n",
      "WARNING:pypot.dynamixel.error:Timeout after sending DxlSyncReadDataPacket(ids=[11, 12, 13, 31, 32, 33, 34, 21, 22, 23, 24, 41, 42, 43, 44, 45, 46, 51, 52, 53, 54, 55, 56], address=37, length=6) to motors 254\n",
      "WARNING:pypot.dynamixel.error:Communication error after sending DxlSyncReadDataPacket(ids=[11, 12, 13, 31, 32, 33, 34, 21, 22, 23, 24, 41, 42, 43, 44, 45, 46, 51, 52, 53, 54, 55, 56], address=6, length=4)\n"
     ]
    }
   ],
   "source": [
    "with open('monmove.move', 'w') as file:\n",
    "    move.save(file)"
   ]
  },
  {
   "cell_type": "markdown",
   "metadata": {},
   "source": [
    "## Recharger un autre mouvement"
   ]
  },
  {
   "cell_type": "code",
   "execution_count": 16,
   "metadata": {
    "collapsed": true
   },
   "outputs": [
    {
     "name": "stderr",
     "output_type": "stream",
     "text": [
      "WARNING:pypot.dynamixel.error:Timeout after sending DxlSyncReadDataPacket(ids=[11, 12, 13, 31, 32, 33, 34, 21, 22, 23, 24, 41, 42, 43, 44, 45, 46, 51, 52, 53, 54, 55, 56], address=6, length=4) to motors 254\n",
      "WARNING:pypot.dynamixel.error:Communication error after sending DxlSyncReadDataPacket(ids=[11, 12, 13, 31, 32, 33, 34, 21, 22, 23, 24, 41, 42, 43, 44, 45, 46, 51, 52, 53, 54, 55, 56], address=46, length=1)\n",
      "WARNING:pypot.dynamixel.error:Timeout after sending DxlSyncReadDataPacket(ids=[11, 12, 13, 31, 32, 33, 34, 21, 22, 23, 24, 41, 42, 43, 44, 45, 46, 51, 52, 53, 54, 55, 56], address=45, length=1) to motors 254\n",
      "WARNING:pypot.dynamixel.error:Communication error after sending DxlSyncReadDataPacket(ids=[11, 12, 13, 31, 32, 33, 34, 21, 22, 23, 24, 41, 42, 43, 44, 45, 46, 51, 52, 53, 54, 55, 56], address=6, length=4)\n",
      "WARNING:pypot.dynamixel.error:Timeout after sending DxlSyncReadDataPacket(ids=[11, 12, 13, 31, 32, 33, 34, 21, 22, 23, 24, 41, 42, 43, 44, 45, 46, 51, 52, 53, 54, 55, 56], address=6, length=4) to motors 254\n",
      "WARNING:pypot.dynamixel.error:Communication error after sending DxlSyncReadDataPacket(ids=[11, 12, 13, 31, 32, 33, 34, 21, 22, 23, 24, 41, 42, 43, 44, 45, 46, 51, 52, 53, 54, 55, 56], address=6, length=4)\n",
      "WARNING:pypot.dynamixel.error:Communication error after sending DxlSyncReadDataPacket(ids=[11, 12, 13, 31, 32, 33, 34, 21, 22, 23, 24, 41, 42, 43, 44, 45, 46, 51, 52, 53, 54, 55, 56], address=37, length=6)\n",
      "WARNING:pypot.dynamixel.error:Communication error after sending DxlSyncReadDataPacket(ids=[11, 12, 13, 31, 32, 33, 34, 21, 22, 23, 24, 41, 42, 43, 44, 45, 46, 51, 52, 53, 54, 55, 56], address=6, length=4)\n",
      "WARNING:pypot.dynamixel.error:Communication error after sending DxlSyncReadDataPacket(ids=[11, 12, 13, 31, 32, 33, 34, 21, 22, 23, 24, 41, 42, 43, 44, 45, 46, 51, 52, 53, 54, 55, 56], address=6, length=4)\n",
      "WARNING:pypot.dynamixel.error:Communication error after sending DxlSyncReadDataPacket(ids=[11, 12, 13, 31, 32, 33, 34, 21, 22, 23, 24, 41, 42, 43, 44, 45, 46, 51, 52, 53, 54, 55, 56], address=6, length=4)\n",
      "WARNING:pypot.dynamixel.error:Communication error after sending DxlSyncReadDataPacket(ids=[11, 12, 13, 31, 32, 33, 34, 21, 22, 23, 24, 41, 42, 43, 44, 45, 46, 51, 52, 53, 54, 55, 56], address=6, length=4)\n",
      "WARNING:pypot.dynamixel.error:Communication error after sending DxlSyncReadDataPacket(ids=[11, 12, 13, 31, 32, 33, 34, 21, 22, 23, 24, 41, 42, 43, 44, 45, 46, 51, 52, 53, 54, 55, 56], address=6, length=4)\n",
      "WARNING:pypot.dynamixel.error:Communication error after sending DxlSyncReadDataPacket(ids=[11, 12, 13, 31, 32, 33, 34, 21, 22, 23, 24, 41, 42, 43, 44, 45, 46, 51, 52, 53, 54, 55, 56], address=6, length=4)\n"
     ]
    }
   ],
   "source": [
    "with open('monmove.move') as file:\n",
    "    monnouveaumove = Move.load(file)"
   ]
  },
  {
   "cell_type": "code",
   "execution_count": null,
   "metadata": {
    "collapsed": true
   },
   "outputs": [],
   "source": []
  }
 ],
 "metadata": {
  "kernelspec": {
   "display_name": "Python 2",
   "language": "python",
   "name": "python2"
  },
  "language_info": {
   "codemirror_mode": {
    "name": "ipython",
    "version": 2
   },
   "file_extension": ".py",
   "mimetype": "text/x-python",
   "name": "python",
   "nbconvert_exporter": "python",
   "pygments_lexer": "ipython2",
   "version": "2.7.9"
  }
 },
 "nbformat": 4,
 "nbformat_minor": 0
}
