{
 "cells": [
  {
   "cell_type": "markdown",
   "metadata": {},
   "source": [
    "## Importer le package Heol"
   ]
  },
  {
   "cell_type": "code",
   "execution_count": 3,
   "metadata": {
    "collapsed": false
   },
   "outputs": [
    {
     "name": "stderr",
     "output_type": "stream",
     "text": [
      ":0: FutureWarning: IPython widgets are experimental and may change in the future.\n",
      "c:\\python27\\lib\\site-packages\\matplotlib\\cbook.py:137: MatplotlibDeprecationWarning: The matplotlib.delaunay module was deprecated in version 1.4. Use matplotlib.tri.Triangulation instead.\n",
      "  warnings.warn(message, mplDeprecation, stacklevel=1)\n"
     ]
    },
    {
     "name": "stdout",
     "output_type": "stream",
     "text": [
      "\n",
      "Please wait a moment while I gather a list of all available modules...\n",
      "\n",
      "BaseHTTPServer      certifi             multiprocessing     struct\n",
      "Bastion             cgi                 mutex               subprocess\n",
      "CGIHTTPServer       cgitb               netbios             sunau\n",
      "Canvas              chunk               netrc               sunaudio\n",
      "ConfigParser        cmath               new                 symbol\n",
      "Cookie              cmd                 nntplib             sympyprinting\n",
      "Dialog              code                nose                symtable\n",
      "DocXMLRPCServer     codecs              nt                  sys\n",
      "FileDialog          codeop              ntpath              sysconfig\n",
      "FixTk               collections         ntsecuritycon       tabnanny\n",
      "HTMLParser          colorama            nturl2path          tarfile\n",
      "IPython             colorsys            numbers             telnetlib\n",
      "MimeWriter          commands            numpy               tempfile\n",
      "PyQt4               commctrl            numpydoc            test\n",
      "Queue               compileall          odbc                tests\n",
      "ScrolledText        compiler            opcode              textwrap\n",
      "SimpleDialog        contextlib          operator            this\n",
      "SimpleHTTPServer    cookielib           optparse            thread\n",
      "SimpleXMLRPCServer  copy                os                  threading\n",
      "SocketServer        copy_reg            os2emxpath          time\n",
      "StringIO            csv                 parallelmagic       timeit\n",
      "Tix                 ctypes              parser              timer\n",
      "Tkconstants         curses              pdb                 tkColorChooser\n",
      "Tkdnd               cythonmagic         perfmon             tkCommonDialog\n",
      "Tkinter             datetime            pickle              tkFileDialog\n",
      "UserDict            dateutil            pickletools         tkFont\n",
      "UserList            dbhash              pip                 tkMessageBox\n",
      "UserString          dbi                 pipes               tkSimpleDialog\n",
      "_LWPCookieJar       dde                 pkg_resources       toaiff\n",
      "_MozillaCookieJar   decimal             pkgutil             token\n",
      "__builtin__         difflib             platform            tokenize\n",
      "__future__          dircache            plistlib            tools\n",
      "_abcoll             dis                 popen2              tornado\n",
      "_ast                distutils           poplib              trace\n",
      "_bisect             doctest             poppy               traceback\n",
      "_bsddb              docutils            poppy_4dof_arm_mini ttk\n",
      "_codecs             dumbdbm             poppy_ergo_jr       tty\n",
      "_codecs_cn          dummy_thread        poppy_humanoid      turtle\n",
      "_codecs_hk          dummy_threading     poppy_torso         types\n",
      "_codecs_iso2022     easy_install        posixfile           unicodedata\n",
      "_codecs_jp          email               posixpath           unittest\n",
      "_codecs_kr          encodings           pprint              urlhandler\n",
      "_codecs_tw          ensurepip           profile             urllib\n",
      "_collections        enum                pstats              urllib2\n",
      "_csv                errno               pty                 urlparse\n",
      "_ctypes             exceptions          py_compile          user\n",
      "_ctypes_test        filecmp             pyclbr              uu\n",
      "_elementtree        fileinput           pydoc               uuid\n",
      "_functools          fnmatch             pydoc_data          warnings\n",
      "_hashlib            formatter           pyexpat             wave\n",
      "_heapq              fpformat            pygments            weakref\n",
      "_hotshot            fractions           pylab               webbrowser\n",
      "_io                 ftplib              pyparsing           whichdb\n",
      "_json               functools           pypot               win2kras\n",
      "_locale             future_builtins     pyreadline          win32api\n",
      "_lsprof             gc                  pythoncom           win32clipboard\n",
      "_markerlib          genericpath         pytz                win32com\n",
      "_md5                getopt              pywin               win32con\n",
      "_msi                getpass             pywin32_testutil    win32console\n",
      "_multibytecodec     gettext             pywintypes          win32cred\n",
      "_multiprocessing    glob                quopri              win32crypt\n",
      "_osx_support        gzip                random              win32cryptcon\n",
      "_pyio               hashlib             rasutil             win32event\n",
      "_random             heapq               re                  win32evtlog\n",
      "_sha                heol-humanoid       readline            win32evtlogutil\n",
      "_sha256             hmac                readme              win32file\n",
      "_sha512             hotshot             regcheck            win32gui\n",
      "_socket             html5lib            regutil             win32gui_struct\n",
      "_sqlite3            htmlentitydefs      repr                win32help\n",
      "_sre                htmllib             requests            win32inet\n",
      "_ssl                httplib             restview            win32inetcon\n",
      "_strptime           idlelib             rexec               win32job\n",
      "_struct             ihooks              rfc822              win32lz\n",
      "_subprocess         imageop             rlcompleter         win32net\n",
      "_symtable           imaplib             rmagic              win32netcon\n",
      "_testcapi           imghdr              robotparser         win32pdh\n",
      "_threading_local    imp                 runpy               win32pdhquery\n",
      "_tkinter            importlib           sched               win32pdhutil\n",
      "_warnings           imputil             scipy               win32pipe\n",
      "_weakref            inspect             select              win32print\n",
      "_weakrefset         io                  serial              win32process\n",
      "_win32sysloader     isapi               servicemanager      win32profile\n",
      "_winreg             itertools           sets                win32ras\n",
      "_winxptheme         jinja2              setuptools          win32rcparser\n",
      "abc                 json                sgmllib             win32security\n",
      "adodbapi            jsonschema          sha                 win32service\n",
      "afxres              keyword             shelve              win32serviceutil\n",
      "aifc                lib2to3             shlex               win32timezone\n",
      "antigravity         linecache           shutil              win32trace\n",
      "anydbm              locale              signal              win32traceutil\n",
      "argparse            logging             sip                 win32transaction\n",
      "array               macpath             site                win32ts\n",
      "ast                 macurl2path         six                 win32ui\n",
      "asynchat            mailbox             smtpd               win32uiole\n",
      "asyncore            mailcap             smtplib             win32verstamp\n",
      "atexit              markupbase          sndhdr              win32wnet\n",
      "audiodev            markupsafe          snowballstemmer     winerror\n",
      "audioop             marshal             socket              winioctlcon\n",
      "autoreload          math                sphinx              winnt\n",
      "babel               matplotlib          sqlite3             winperf\n",
      "backports           md5                 sre                 winsound\n",
      "base64              mhlib               sre_compile         winxpgui\n",
      "bdb                 mimetools           sre_constants       winxptheme\n",
      "binascii            mimetypes           sre_parse           wsgiref\n",
      "binhex              mimify              ssl                 xdrlib\n",
      "bisect              mistune             sspi                xml\n",
      "bleach              mmap                sspicon             xmllib\n",
      "bottle              mmapfile            stat                xmlrpclib\n",
      "bsddb               mmsystem            statvfs             xxsubtype\n",
      "bz2                 mock                storemagic          zerorpc\n",
      "cPickle             modulefinder        string              zipfile\n",
      "cProfile            msilib              stringold           zipimport\n",
      "cStringIO           msvcrt              stringprep          zlib\n",
      "calendar            multifile           strop               zmq\n",
      "\n",
      "Enter any module name to get more help.  Or, type \"modules spam\" to search\n",
      "for modules whose descriptions contain the word \"spam\".\n",
      "\n"
     ]
    }
   ],
   "source": [
    "help(\"modules\")\n"
   ]
  },
  {
   "cell_type": "code",
   "execution_count": 4,
   "metadata": {
    "collapsed": true
   },
   "outputs": [],
   "source": [
    "import pip"
   ]
  },
  {
   "cell_type": "code",
   "execution_count": null,
   "metadata": {
    "collapsed": true
   },
   "outputs": [],
   "source": []
  },
  {
   "cell_type": "code",
   "execution_count": 1,
   "metadata": {
    "collapsed": false
   },
   "outputs": [
    {
     "ename": "ImportError",
     "evalue": "No module named heol",
     "output_type": "error",
     "traceback": [
      "\u001b[1;31m---------------------------------------------------------------------------\u001b[0m",
      "\u001b[1;31mImportError\u001b[0m                               Traceback (most recent call last)",
      "\u001b[1;32m<ipython-input-1-683b9fac0b95>\u001b[0m in \u001b[0;36m<module>\u001b[1;34m()\u001b[0m\n\u001b[1;32m----> 1\u001b[1;33m \u001b[1;32mfrom\u001b[0m \u001b[0mheol\u001b[0m \u001b[1;32mimport\u001b[0m \u001b[0mHeol\u001b[0m\u001b[1;33m\u001b[0m\u001b[0m\n\u001b[0m",
      "\u001b[1;31mImportError\u001b[0m: No module named heol"
     ]
    }
   ],
   "source": [
    "from heol import Heol"
   ]
  },
  {
   "cell_type": "markdown",
   "metadata": {},
   "source": [
    "## Créer le robot"
   ]
  },
  {
   "cell_type": "code",
   "execution_count": 2,
   "metadata": {
    "collapsed": false,
    "scrolled": false
   },
   "outputs": [
    {
     "name": "stderr",
     "output_type": "stream",
     "text": [
      "WARNING:pypot.dynamixel.error:Communication error after sending DxlSyncReadDataPacket(ids=[11, 12, 13, 31, 32, 33, 34, 21, 22, 23, 24, 41, 42, 43, 44, 45, 46, 51, 52, 53, 54, 55, 56], address=6, length=4)\n",
      "WARNING:pypot.dynamixel.error:Communication error after sending DxlSyncReadDataPacket(ids=[11, 12, 13, 31, 32, 33, 34, 21, 22, 23, 24, 41, 42, 43, 44, 45, 46, 51, 52, 53, 54, 55, 56], address=6, length=4)\n",
      "WARNING:pypot.dynamixel.error:Communication error after sending DxlSyncReadDataPacket(ids=[11, 12, 13, 31, 32, 33, 34, 21, 22, 23, 24, 41, 42, 43, 44, 45, 46, 51, 52, 53, 54, 55, 56], address=6, length=4)\n",
      "WARNING:pypot.dynamixel.error:Communication error after sending DxlSyncReadDataPacket(ids=[11, 12, 13, 31, 32, 33, 34, 21, 22, 23, 24, 41, 42, 43, 44, 45, 46, 51, 52, 53, 54, 55, 56], address=6, length=4)\n",
      "WARNING:pypot.dynamixel.error:Communication error after sending DxlSyncReadDataPacket(ids=[11, 12, 13, 31, 32, 33, 34, 21, 22, 23, 24, 41, 42, 43, 44, 45, 46, 51, 52, 53, 54, 55, 56], address=6, length=4)\n",
      "WARNING:pypot.dynamixel.error:Communication error after sending DxlSyncReadDataPacket(ids=[11, 12, 13, 31, 32, 33, 34, 21, 22, 23, 24, 41, 42, 43, 44, 45, 46, 51, 52, 53, 54, 55, 56], address=6, length=4)\n",
      "WARNING:pypot.dynamixel.error:Communication error after sending DxlSyncReadDataPacket(ids=[11, 12, 13, 31, 32, 33, 34, 21, 22, 23, 24, 41, 42, 43, 44, 45, 46, 51, 52, 53, 54, 55, 56], address=6, length=4)\n",
      "WARNING:pypot.dynamixel.error:Communication error after sending DxlSyncReadDataPacket(ids=[11, 12, 13, 31, 32, 33, 34, 21, 22, 23, 24, 41, 42, 43, 44, 45, 46, 51, 52, 53, 54, 55, 56], address=46, length=1)\n",
      "WARNING:pypot.dynamixel.error:Communication error after sending DxlSyncReadDataPacket(ids=[11, 12, 13, 31, 32, 33, 34, 21, 22, 23, 24, 41, 42, 43, 44, 45, 46, 51, 52, 53, 54, 55, 56], address=6, length=4)\n",
      "WARNING:pypot.dynamixel.error:Communication error after sending DxlSyncReadDataPacket(ids=[11, 12, 13, 31, 32, 33, 34, 21, 22, 23, 24, 41, 42, 43, 44, 45, 46, 51, 52, 53, 54, 55, 56], address=6, length=4)\n",
      "WARNING:pypot.dynamixel.error:Communication error after sending DxlSyncReadDataPacket(ids=[11, 12, 13, 31, 32, 33, 34, 21, 22, 23, 24, 41, 42, 43, 44, 45, 46, 51, 52, 53, 54, 55, 56], address=6, length=4)\n",
      "WARNING:pypot.dynamixel.error:Communication error after sending DxlSyncReadDataPacket(ids=[11, 12, 13, 31, 32, 33, 34, 21, 22, 23, 24, 41, 42, 43, 44, 45, 46, 51, 52, 53, 54, 55, 56], address=6, length=4)\n",
      "WARNING:pypot.dynamixel.error:Communication error after sending DxlSyncReadDataPacket(ids=[11, 12, 13, 31, 32, 33, 34, 21, 22, 23, 24, 41, 42, 43, 44, 45, 46, 51, 52, 53, 54, 55, 56], address=37, length=6)\n",
      "WARNING:pypot.dynamixel.error:Communication error after sending DxlSyncReadDataPacket(ids=[11, 12, 13, 31, 32, 33, 34, 21, 22, 23, 24, 41, 42, 43, 44, 45, 46, 51, 52, 53, 54, 55, 56], address=6, length=4)\n",
      "WARNING:pypot.dynamixel.error:Communication error after sending DxlSyncReadDataPacket(ids=[11, 12, 13, 31, 32, 33, 34, 21, 22, 23, 24, 41, 42, 43, 44, 45, 46, 51, 52, 53, 54, 55, 56], address=37, length=6)\n"
     ]
    }
   ],
   "source": [
    "fendi = Fendi()"
   ]
  },
  {
   "cell_type": "markdown",
   "metadata": {},
   "source": [
    "A partir de ce moment le robot physique et le robot software sont connectés. Tous les commandes que tu lances sur l'objet fendi sont lancés sur le robot."
   ]
  },
  {
   "cell_type": "markdown",
   "metadata": {},
   "source": [
    "## Utiliser le robot"
   ]
  },
  {
   "cell_type": "markdown",
   "metadata": {},
   "source": [
    "Affiche un ensemble d'infos sur le robot"
   ]
  },
  {
   "cell_type": "code",
   "execution_count": null,
   "metadata": {
    "collapsed": true
   },
   "outputs": [],
   "source": [
    "fendi"
   ]
  },
  {
   "cell_type": "markdown",
   "metadata": {},
   "source": [
    "Mets tous les moteurs en non-compliant"
   ]
  },
  {
   "cell_type": "code",
   "execution_count": 17,
   "metadata": {
    "collapsed": true
   },
   "outputs": [
    {
     "name": "stderr",
     "output_type": "stream",
     "text": [
      "WARNING:pypot.dynamixel.error:Timeout after sending DxlSyncReadDataPacket(ids=[11, 12, 13, 31, 32, 33, 34, 21, 22, 23, 24, 41, 42, 43, 44, 45, 46, 51, 52, 53, 54, 55, 56], address=6, length=4) to motors 254\n",
      "WARNING:pypot.dynamixel.error:Communication error after sending DxlSyncReadDataPacket(ids=[11, 12, 13, 31, 32, 33, 34, 21, 22, 23, 24, 41, 42, 43, 44, 45, 46, 51, 52, 53, 54, 55, 56], address=6, length=4)\n",
      "WARNING:pypot.dynamixel.error:Communication error after sending DxlSyncReadDataPacket(ids=[11, 12, 13, 31, 32, 33, 34, 21, 22, 23, 24, 41, 42, 43, 44, 45, 46, 51, 52, 53, 54, 55, 56], address=6, length=4)\n",
      "WARNING:pypot.dynamixel.error:Communication error after sending DxlSyncReadDataPacket(ids=[11, 12, 13, 31, 32, 33, 34, 21, 22, 23, 24, 41, 42, 43, 44, 45, 46, 51, 52, 53, 54, 55, 56], address=6, length=4)\n",
      "WARNING:pypot.dynamixel.error:Communication error after sending DxlSyncReadDataPacket(ids=[11, 12, 13, 31, 32, 33, 34, 21, 22, 23, 24, 41, 42, 43, 44, 45, 46, 51, 52, 53, 54, 55, 56], address=6, length=4)\n",
      "WARNING:pypot.dynamixel.error:Communication error after sending DxlSyncReadDataPacket(ids=[11, 12, 13, 31, 32, 33, 34, 21, 22, 23, 24, 41, 42, 43, 44, 45, 46, 51, 52, 53, 54, 55, 56], address=6, length=4)\n",
      "WARNING:pypot.dynamixel.error:Communication error after sending DxlSyncReadDataPacket(ids=[11, 12, 13, 31, 32, 33, 34, 21, 22, 23, 24, 41, 42, 43, 44, 45, 46, 51, 52, 53, 54, 55, 56], address=6, length=4)\n",
      "WARNING:pypot.dynamixel.error:Communication error after sending DxlSyncReadDataPacket(ids=[11, 12, 13, 31, 32, 33, 34, 21, 22, 23, 24, 41, 42, 43, 44, 45, 46, 51, 52, 53, 54, 55, 56], address=6, length=4)\n"
     ]
    }
   ],
   "source": [
    "for m in fendi.motors:\n",
    "    m.compliant = False"
   ]
  },
  {
   "cell_type": "markdown",
   "metadata": {},
   "source": [
    "Mets tous les moteurs à 0"
   ]
  },
  {
   "cell_type": "code",
   "execution_count": null,
   "metadata": {
    "collapsed": false
   },
   "outputs": [],
   "source": [
    "for m in fendi.motors:\n",
    "    m.moving_speed = 100\n",
    "    m.goal_speed = 0"
   ]
  },
  {
   "cell_type": "markdown",
   "metadata": {},
   "source": [
    "## Lancer des primitives"
   ]
  },
  {
   "cell_type": "markdown",
   "metadata": {},
   "source": [
    "Le mettre debout"
   ]
  },
  {
   "cell_type": "code",
   "execution_count": 3,
   "metadata": {
    "collapsed": false
   },
   "outputs": [
    {
     "name": "stderr",
     "output_type": "stream",
     "text": [
      "WARNING:pypot.dynamixel.error:Communication error after sending DxlSyncReadDataPacket(ids=[11, 12, 13, 31, 32, 33, 34, 21, 22, 23, 24, 41, 42, 43, 44, 45, 46, 51, 52, 53, 54, 55, 56], address=6, length=4)\n",
      "WARNING:pypot.dynamixel.error:Communication error after sending DxlSyncReadDataPacket(ids=[11, 12, 13, 31, 32, 33, 34, 21, 22, 23, 24, 41, 42, 43, 44, 45, 46, 51, 52, 53, 54, 55, 56], address=6, length=4)\n",
      "WARNING:pypot.dynamixel.error:Timeout after sending DxlSyncReadDataPacket(ids=[11, 12, 13, 31, 32, 33, 34, 21, 22, 23, 24, 41, 42, 43, 44, 45, 46, 51, 52, 53, 54, 55, 56], address=37, length=6) to motors 254\n",
      "WARNING:pypot.dynamixel.error:Communication error after sending DxlSyncReadDataPacket(ids=[11, 12, 13, 31, 32, 33, 34, 21, 22, 23, 24, 41, 42, 43, 44, 45, 46, 51, 52, 53, 54, 55, 56], address=6, length=4)\n"
     ]
    }
   ],
   "source": [
    "fendi.stand.start()"
   ]
  },
  {
   "cell_type": "markdown",
   "metadata": {},
   "source": [
    "Faire un signe de la main"
   ]
  },
  {
   "cell_type": "code",
   "execution_count": 4,
   "metadata": {
    "collapsed": false
   },
   "outputs": [
    {
     "name": "stderr",
     "output_type": "stream",
     "text": [
      "WARNING:pypot.dynamixel.error:Timeout after sending DxlSyncReadDataPacket(ids=[11, 12, 13, 31, 32, 33, 34, 21, 22, 23, 24, 41, 42, 43, 44, 45, 46, 51, 52, 53, 54, 55, 56], address=6, length=4) to motors 254\n",
      "WARNING:pypot.dynamixel.error:Communication error after sending DxlSyncReadDataPacket(ids=[11, 12, 13, 31, 32, 33, 34, 21, 22, 23, 24, 41, 42, 43, 44, 45, 46, 51, 52, 53, 54, 55, 56], address=6, length=4)\n",
      "WARNING:pypot.dynamixel.error:Timeout after sending DxlSyncReadDataPacket(ids=[11, 12, 13, 31, 32, 33, 34, 21, 22, 23, 24, 41, 42, 43, 44, 45, 46, 51, 52, 53, 54, 55, 56], address=45, length=1) to motors 254\n",
      "WARNING:pypot.dynamixel.error:Communication error after sending DxlSyncReadDataPacket(ids=[11, 12, 13, 31, 32, 33, 34, 21, 22, 23, 24, 41, 42, 43, 44, 45, 46, 51, 52, 53, 54, 55, 56], address=6, length=4)\n",
      "WARNING:pypot.dynamixel.error:Communication error after sending DxlSyncReadDataPacket(ids=[11, 12, 13, 31, 32, 33, 34, 21, 22, 23, 24, 41, 42, 43, 44, 45, 46, 51, 52, 53, 54, 55, 56], address=37, length=6)\n",
      "WARNING:pypot.dynamixel.error:Timeout after sending DxlSyncReadDataPacket(ids=[11, 12, 13, 31, 32, 33, 34, 21, 22, 23, 24, 41, 42, 43, 44, 45, 46, 51, 52, 53, 54, 55, 56], address=6, length=4) to motors 254\n",
      "WARNING:pypot.dynamixel.error:Communication error after sending DxlSyncReadDataPacket(ids=[11, 12, 13, 31, 32, 33, 34, 21, 22, 23, 24, 41, 42, 43, 44, 45, 46, 51, 52, 53, 54, 55, 56], address=6, length=4)\n",
      "WARNING:pypot.dynamixel.error:Communication error after sending DxlSyncReadDataPacket(ids=[11, 12, 13, 31, 32, 33, 34, 21, 22, 23, 24, 41, 42, 43, 44, 45, 46, 51, 52, 53, 54, 55, 56], address=6, length=4)\n",
      "WARNING:pypot.dynamixel.error:Timeout after sending DxlSyncReadDataPacket(ids=[11, 12, 13, 31, 32, 33, 34, 21, 22, 23, 24, 41, 42, 43, 44, 45, 46, 51, 52, 53, 54, 55, 56], address=6, length=4) to motors 254\n",
      "WARNING:pypot.dynamixel.error:Communication error after sending DxlSyncReadDataPacket(ids=[11, 12, 13, 31, 32, 33, 34, 21, 22, 23, 24, 41, 42, 43, 44, 45, 46, 51, 52, 53, 54, 55, 56], address=6, length=4)\n",
      "WARNING:pypot.dynamixel.error:Communication error after sending DxlSyncReadDataPacket(ids=[11, 12, 13, 31, 32, 33, 34, 21, 22, 23, 24, 41, 42, 43, 44, 45, 46, 51, 52, 53, 54, 55, 56], address=6, length=4)\n",
      "WARNING:pypot.dynamixel.error:Communication error after sending DxlSyncReadDataPacket(ids=[11, 12, 13, 31, 32, 33, 34, 21, 22, 23, 24, 41, 42, 43, 44, 45, 46, 51, 52, 53, 54, 55, 56], address=6, length=4)\n"
     ]
    }
   ],
   "source": [
    "fendi.wave.start()"
   ]
  },
  {
   "cell_type": "markdown",
   "metadata": {
    "collapsed": true
   },
   "source": [
    "## Enregistrer des mouvements"
   ]
  },
  {
   "cell_type": "markdown",
   "metadata": {},
   "source": [
    "Importe les outils nécessaires pour enregistrer et jouer des mouvements"
   ]
  },
  {
   "cell_type": "code",
   "execution_count": 5,
   "metadata": {
    "collapsed": false
   },
   "outputs": [
    {
     "name": "stderr",
     "output_type": "stream",
     "text": [
      "WARNING:pypot.dynamixel.error:Communication error after sending DxlSyncReadDataPacket(ids=[11, 12, 13, 31, 32, 33, 34, 21, 22, 23, 24, 41, 42, 43, 44, 45, 46, 51, 52, 53, 54, 55, 56], address=6, length=4)\n",
      "WARNING:pypot.dynamixel.error:Communication error after sending DxlSyncReadDataPacket(ids=[11, 12, 13, 31, 32, 33, 34, 21, 22, 23, 24, 41, 42, 43, 44, 45, 46, 51, 52, 53, 54, 55, 56], address=6, length=4)\n",
      "WARNING:pypot.dynamixel.error:Communication error after sending DxlSyncReadDataPacket(ids=[11, 12, 13, 31, 32, 33, 34, 21, 22, 23, 24, 41, 42, 43, 44, 45, 46, 51, 52, 53, 54, 55, 56], address=6, length=4)\n",
      "WARNING:pypot.dynamixel.error:Communication error after sending DxlSyncReadDataPacket(ids=[11, 12, 13, 31, 32, 33, 34, 21, 22, 23, 24, 41, 42, 43, 44, 45, 46, 51, 52, 53, 54, 55, 56], address=6, length=4)\n",
      "WARNING:pypot.dynamixel.error:Communication error after sending DxlSyncReadDataPacket(ids=[11, 12, 13, 31, 32, 33, 34, 21, 22, 23, 24, 41, 42, 43, 44, 45, 46, 51, 52, 53, 54, 55, 56], address=6, length=4)\n"
     ]
    }
   ],
   "source": [
    "from pypot.primitive.move import *"
   ]
  },
  {
   "cell_type": "code",
   "execution_count": 6,
   "metadata": {
    "collapsed": false
   },
   "outputs": [
    {
     "name": "stderr",
     "output_type": "stream",
     "text": [
      "WARNING:pypot.dynamixel.error:Communication error after sending DxlSyncReadDataPacket(ids=[11, 12, 13, 31, 32, 33, 34, 21, 22, 23, 24, 41, 42, 43, 44, 45, 46, 51, 52, 53, 54, 55, 56], address=6, length=4)\n",
      "WARNING:pypot.dynamixel.error:Communication error after sending DxlSyncReadDataPacket(ids=[11, 12, 13, 31, 32, 33, 34, 21, 22, 23, 24, 41, 42, 43, 44, 45, 46, 51, 52, 53, 54, 55, 56], address=6, length=4)\n",
      "WARNING:pypot.dynamixel.error:Communication error after sending DxlSyncReadDataPacket(ids=[11, 12, 13, 31, 32, 33, 34, 21, 22, 23, 24, 41, 42, 43, 44, 45, 46, 51, 52, 53, 54, 55, 56], address=6, length=4)\n",
      "WARNING:pypot.dynamixel.error:Communication error after sending DxlSyncReadDataPacket(ids=[11, 12, 13, 31, 32, 33, 34, 21, 22, 23, 24, 41, 42, 43, 44, 45, 46, 51, 52, 53, 54, 55, 56], address=46, length=1)\n",
      "WARNING:pypot.dynamixel.error:Communication error after sending DxlSyncReadDataPacket(ids=[11, 12, 13, 31, 32, 33, 34, 21, 22, 23, 24, 41, 42, 43, 44, 45, 46, 51, 52, 53, 54, 55, 56], address=45, length=1)\n",
      "WARNING:pypot.dynamixel.error:Communication error after sending DxlSyncReadDataPacket(ids=[11, 12, 13, 31, 32, 33, 34, 21, 22, 23, 24, 41, 42, 43, 44, 45, 46, 51, 52, 53, 54, 55, 56], address=6, length=4)\n",
      "WARNING:pypot.dynamixel.error:Communication error after sending DxlSyncReadDataPacket(ids=[11, 12, 13, 31, 32, 33, 34, 21, 22, 23, 24, 41, 42, 43, 44, 45, 46, 51, 52, 53, 54, 55, 56], address=46, length=1)\n",
      "WARNING:pypot.dynamixel.error:Communication error after sending DxlSyncReadDataPacket(ids=[11, 12, 13, 31, 32, 33, 34, 21, 22, 23, 24, 41, 42, 43, 44, 45, 46, 51, 52, 53, 54, 55, 56], address=6, length=4)\n",
      "WARNING:pypot.dynamixel.error:Communication error after sending DxlSyncReadDataPacket(ids=[11, 12, 13, 31, 32, 33, 34, 21, 22, 23, 24, 41, 42, 43, 44, 45, 46, 51, 52, 53, 54, 55, 56], address=45, length=1)\n",
      "WARNING:pypot.dynamixel.error:Communication error after sending DxlSyncReadDataPacket(ids=[11, 12, 13, 31, 32, 33, 34, 21, 22, 23, 24, 41, 42, 43, 44, 45, 46, 51, 52, 53, 54, 55, 56], address=6, length=4)\n",
      "WARNING:pypot.dynamixel.error:Communication error after sending DxlSyncReadDataPacket(ids=[11, 12, 13, 31, 32, 33, 34, 21, 22, 23, 24, 41, 42, 43, 44, 45, 46, 51, 52, 53, 54, 55, 56], address=46, length=1)\n",
      "WARNING:pypot.dynamixel.error:Communication error after sending DxlSyncReadDataPacket(ids=[11, 12, 13, 31, 32, 33, 34, 21, 22, 23, 24, 41, 42, 43, 44, 45, 46, 51, 52, 53, 54, 55, 56], address=45, length=1)\n",
      "WARNING:pypot.dynamixel.error:Communication error after sending DxlSyncReadDataPacket(ids=[11, 12, 13, 31, 32, 33, 34, 21, 22, 23, 24, 41, 42, 43, 44, 45, 46, 51, 52, 53, 54, 55, 56], address=6, length=4)\n"
     ]
    }
   ],
   "source": [
    "rec = MoveRecorder(fendi, 50, fendi.l_arm) # créer un enregistreur à 50Hz des moteurs du bras gauche du robot"
   ]
  },
  {
   "cell_type": "markdown",
   "metadata": {},
   "source": [
    "Passe les moteurs en compliant pour pouvoir les bouger"
   ]
  },
  {
   "cell_type": "code",
   "execution_count": 17,
   "metadata": {
    "collapsed": false
   },
   "outputs": [
    {
     "name": "stderr",
     "output_type": "stream",
     "text": [
      "WARNING:pypot.dynamixel.error:Communication error after sending DxlSyncReadDataPacket(ids=[11, 12, 13, 31, 32, 33, 34, 21, 22, 23, 24, 41, 42, 43, 44, 45, 46, 51, 52, 53, 54, 55, 56], address=6, length=4)\n",
      "WARNING:pypot.dynamixel.error:Communication error after sending DxlSyncReadDataPacket(ids=[11, 12, 13, 31, 32, 33, 34, 21, 22, 23, 24, 41, 42, 43, 44, 45, 46, 51, 52, 53, 54, 55, 56], address=6, length=4)\n",
      "WARNING:pypot.dynamixel.error:Communication error after sending DxlSyncReadDataPacket(ids=[11, 12, 13, 31, 32, 33, 34, 21, 22, 23, 24, 41, 42, 43, 44, 45, 46, 51, 52, 53, 54, 55, 56], address=6, length=4)\n",
      "WARNING:pypot.dynamixel.error:Communication error after sending DxlSyncReadDataPacket(ids=[11, 12, 13, 31, 32, 33, 34, 21, 22, 23, 24, 41, 42, 43, 44, 45, 46, 51, 52, 53, 54, 55, 56], address=6, length=4)\n",
      "WARNING:pypot.dynamixel.error:Communication error after sending DxlSyncReadDataPacket(ids=[11, 12, 13, 31, 32, 33, 34, 21, 22, 23, 24, 41, 42, 43, 44, 45, 46, 51, 52, 53, 54, 55, 56], address=6, length=4)\n",
      "WARNING:pypot.dynamixel.error:Communication error after sending DxlSyncReadDataPacket(ids=[11, 12, 13, 31, 32, 33, 34, 21, 22, 23, 24, 41, 42, 43, 44, 45, 46, 51, 52, 53, 54, 55, 56], address=6, length=4)\n",
      "WARNING:pypot.dynamixel.error:Timeout after sending DxlSyncReadDataPacket(ids=[11, 12, 13, 31, 32, 33, 34, 21, 22, 23, 24, 41, 42, 43, 44, 45, 46, 51, 52, 53, 54, 55, 56], address=6, length=4) to motors 254\n",
      "WARNING:pypot.dynamixel.error:Communication error after sending DxlSyncReadDataPacket(ids=[11, 12, 13, 31, 32, 33, 34, 21, 22, 23, 24, 41, 42, 43, 44, 45, 46, 51, 52, 53, 54, 55, 56], address=37, length=6)\n",
      "WARNING:pypot.dynamixel.error:Communication error after sending DxlSyncReadDataPacket(ids=[11, 12, 13, 31, 32, 33, 34, 21, 22, 23, 24, 41, 42, 43, 44, 45, 46, 51, 52, 53, 54, 55, 56], address=6, length=4)\n",
      "WARNING:pypot.dynamixel.error:Communication error after sending DxlSyncReadDataPacket(ids=[11, 12, 13, 31, 32, 33, 34, 21, 22, 23, 24, 41, 42, 43, 44, 45, 46, 51, 52, 53, 54, 55, 56], address=6, length=4)\n",
      "WARNING:pypot.dynamixel.error:Communication error after sending DxlSyncReadDataPacket(ids=[11, 12, 13, 31, 32, 33, 34, 21, 22, 23, 24, 41, 42, 43, 44, 45, 46, 51, 52, 53, 54, 55, 56], address=6, length=4)\n",
      "WARNING:pypot.dynamixel.error:Timeout after sending DxlSyncReadDataPacket(ids=[11, 12, 13, 31, 32, 33, 34, 21, 22, 23, 24, 41, 42, 43, 44, 45, 46, 51, 52, 53, 54, 55, 56], address=6, length=4) to motors 254\n",
      "WARNING:pypot.dynamixel.error:Communication error after sending DxlSyncReadDataPacket(ids=[11, 12, 13, 31, 32, 33, 34, 21, 22, 23, 24, 41, 42, 43, 44, 45, 46, 51, 52, 53, 54, 55, 56], address=6, length=4)\n",
      "WARNING:pypot.dynamixel.error:Timeout after sending DxlSyncReadDataPacket(ids=[11, 12, 13, 31, 32, 33, 34, 21, 22, 23, 24, 41, 42, 43, 44, 45, 46, 51, 52, 53, 54, 55, 56], address=6, length=4) to motors 254\n",
      "WARNING:pypot.dynamixel.error:Communication error after sending DxlSyncReadDataPacket(ids=[11, 12, 13, 31, 32, 33, 34, 21, 22, 23, 24, 41, 42, 43, 44, 45, 46, 51, 52, 53, 54, 55, 56], address=6, length=4)\n",
      "WARNING:pypot.dynamixel.error:Communication error after sending DxlSyncReadDataPacket(ids=[11, 12, 13, 31, 32, 33, 34, 21, 22, 23, 24, 41, 42, 43, 44, 45, 46, 51, 52, 53, 54, 55, 56], address=45, length=1)\n",
      "WARNING:pypot.dynamixel.error:Communication error after sending DxlSyncReadDataPacket(ids=[11, 12, 13, 31, 32, 33, 34, 21, 22, 23, 24, 41, 42, 43, 44, 45, 46, 51, 52, 53, 54, 55, 56], address=37, length=6)\n",
      "WARNING:pypot.dynamixel.error:Communication error after sending DxlSyncReadDataPacket(ids=[11, 12, 13, 31, 32, 33, 34, 21, 22, 23, 24, 41, 42, 43, 44, 45, 46, 51, 52, 53, 54, 55, 56], address=46, length=1)\n",
      "WARNING:pypot.dynamixel.error:Timeout after sending DxlSyncReadDataPacket(ids=[11, 12, 13, 31, 32, 33, 34, 21, 22, 23, 24, 41, 42, 43, 44, 45, 46, 51, 52, 53, 54, 55, 56], address=37, length=6) to motors 254\n",
      "WARNING:pypot.dynamixel.error:Communication error after sending DxlSyncReadDataPacket(ids=[11, 12, 13, 31, 32, 33, 34, 21, 22, 23, 24, 41, 42, 43, 44, 45, 46, 51, 52, 53, 54, 55, 56], address=37, length=6)\n",
      "WARNING:pypot.dynamixel.error:Communication error after sending DxlSyncReadDataPacket(ids=[11, 12, 13, 31, 32, 33, 34, 21, 22, 23, 24, 41, 42, 43, 44, 45, 46, 51, 52, 53, 54, 55, 56], address=6, length=4)\n",
      "WARNING:pypot.dynamixel.error:Communication error after sending DxlSyncReadDataPacket(ids=[11, 12, 13, 31, 32, 33, 34, 21, 22, 23, 24, 41, 42, 43, 44, 45, 46, 51, 52, 53, 54, 55, 56], address=6, length=4)\n",
      "WARNING:pypot.dynamixel.error:Communication error after sending DxlSyncReadDataPacket(ids=[11, 12, 13, 31, 32, 33, 34, 21, 22, 23, 24, 41, 42, 43, 44, 45, 46, 51, 52, 53, 54, 55, 56], address=6, length=4)\n",
      "WARNING:pypot.dynamixel.error:Communication error after sending DxlSyncReadDataPacket(ids=[11, 12, 13, 31, 32, 33, 34, 21, 22, 23, 24, 41, 42, 43, 44, 45, 46, 51, 52, 53, 54, 55, 56], address=6, length=4)\n"
     ]
    }
   ],
   "source": [
    "for m in fendi.l_arm:\n",
    "    m.compliant = True"
   ]
  },
  {
   "cell_type": "markdown",
   "metadata": {},
   "source": [
    "Lancer l'enregistrement"
   ]
  },
  {
   "cell_type": "code",
   "execution_count": 18,
   "metadata": {
    "collapsed": false
   },
   "outputs": [
    {
     "name": "stderr",
     "output_type": "stream",
     "text": [
      "WARNING:pypot.dynamixel.error:Communication error after sending DxlSyncReadDataPacket(ids=[11, 12, 13, 31, 32, 33, 34, 21, 22, 23, 24, 41, 42, 43, 44, 45, 46, 51, 52, 53, 54, 55, 56], address=46, length=1)\n",
      "WARNING:pypot.dynamixel.error:Timeout after sending DxlSyncReadDataPacket(ids=[11, 12, 13, 31, 32, 33, 34, 21, 22, 23, 24, 41, 42, 43, 44, 45, 46, 51, 52, 53, 54, 55, 56], address=37, length=6) to motors 254\n",
      "WARNING:pypot.dynamixel.error:Timeout after sending DxlSyncReadDataPacket(ids=[11, 12, 13, 31, 32, 33, 34, 21, 22, 23, 24, 41, 42, 43, 44, 45, 46, 51, 52, 53, 54, 55, 56], address=37, length=6) to motors 254\n",
      "WARNING:pypot.dynamixel.error:Communication error after sending DxlSyncReadDataPacket(ids=[11, 12, 13, 31, 32, 33, 34, 21, 22, 23, 24, 41, 42, 43, 44, 45, 46, 51, 52, 53, 54, 55, 56], address=37, length=6)\n",
      "WARNING:pypot.dynamixel.error:Communication error after sending DxlSyncReadDataPacket(ids=[11, 12, 13, 31, 32, 33, 34, 21, 22, 23, 24, 41, 42, 43, 44, 45, 46, 51, 52, 53, 54, 55, 56], address=6, length=4)\n",
      "WARNING:pypot.dynamixel.error:Timeout after sending DxlSyncReadDataPacket(ids=[11, 12, 13, 31, 32, 33, 34, 21, 22, 23, 24, 41, 42, 43, 44, 45, 46, 51, 52, 53, 54, 55, 56], address=6, length=4) to motors 254\n",
      "WARNING:pypot.dynamixel.error:Communication error after sending DxlSyncReadDataPacket(ids=[11, 12, 13, 31, 32, 33, 34, 21, 22, 23, 24, 41, 42, 43, 44, 45, 46, 51, 52, 53, 54, 55, 56], address=6, length=4)\n",
      "WARNING:pypot.dynamixel.error:Communication error after sending DxlSyncReadDataPacket(ids=[11, 12, 13, 31, 32, 33, 34, 21, 22, 23, 24, 41, 42, 43, 44, 45, 46, 51, 52, 53, 54, 55, 56], address=46, length=1)\n",
      "WARNING:pypot.dynamixel.error:Communication error after sending DxlSyncReadDataPacket(ids=[11, 12, 13, 31, 32, 33, 34, 21, 22, 23, 24, 41, 42, 43, 44, 45, 46, 51, 52, 53, 54, 55, 56], address=6, length=4)\n",
      "WARNING:pypot.dynamixel.error:Communication error after sending DxlSyncReadDataPacket(ids=[11, 12, 13, 31, 32, 33, 34, 21, 22, 23, 24, 41, 42, 43, 44, 45, 46, 51, 52, 53, 54, 55, 56], address=6, length=4)\n",
      "WARNING:pypot.dynamixel.error:Communication error after sending DxlSyncReadDataPacket(ids=[11, 12, 13, 31, 32, 33, 34, 21, 22, 23, 24, 41, 42, 43, 44, 45, 46, 51, 52, 53, 54, 55, 56], address=46, length=1)\n",
      "WARNING:pypot.dynamixel.error:Timeout after sending DxlSyncReadDataPacket(ids=[11, 12, 13, 31, 32, 33, 34, 21, 22, 23, 24, 41, 42, 43, 44, 45, 46, 51, 52, 53, 54, 55, 56], address=6, length=4) to motors 254\n",
      "WARNING:pypot.dynamixel.error:Communication error after sending DxlSyncReadDataPacket(ids=[11, 12, 13, 31, 32, 33, 34, 21, 22, 23, 24, 41, 42, 43, 44, 45, 46, 51, 52, 53, 54, 55, 56], address=6, length=4)\n",
      "WARNING:pypot.dynamixel.error:Communication error after sending DxlSyncReadDataPacket(ids=[11, 12, 13, 31, 32, 33, 34, 21, 22, 23, 24, 41, 42, 43, 44, 45, 46, 51, 52, 53, 54, 55, 56], address=6, length=4)\n",
      "WARNING:pypot.dynamixel.error:Communication error after sending DxlSyncReadDataPacket(ids=[11, 12, 13, 31, 32, 33, 34, 21, 22, 23, 24, 41, 42, 43, 44, 45, 46, 51, 52, 53, 54, 55, 56], address=37, length=6)\n",
      "WARNING:pypot.dynamixel.error:Communication error after sending DxlSyncReadDataPacket(ids=[11, 12, 13, 31, 32, 33, 34, 21, 22, 23, 24, 41, 42, 43, 44, 45, 46, 51, 52, 53, 54, 55, 56], address=6, length=4)\n",
      "WARNING:pypot.dynamixel.error:Communication error after sending DxlSyncReadDataPacket(ids=[11, 12, 13, 31, 32, 33, 34, 21, 22, 23, 24, 41, 42, 43, 44, 45, 46, 51, 52, 53, 54, 55, 56], address=6, length=4)\n",
      "WARNING:pypot.dynamixel.error:Communication error after sending DxlSyncReadDataPacket(ids=[11, 12, 13, 31, 32, 33, 34, 21, 22, 23, 24, 41, 42, 43, 44, 45, 46, 51, 52, 53, 54, 55, 56], address=6, length=4)\n",
      "WARNING:pypot.dynamixel.error:Communication error after sending DxlSyncReadDataPacket(ids=[11, 12, 13, 31, 32, 33, 34, 21, 22, 23, 24, 41, 42, 43, 44, 45, 46, 51, 52, 53, 54, 55, 56], address=6, length=4)\n"
     ]
    }
   ],
   "source": [
    "rec.start() # tous les mouvements sont enregistrés à partir de ce moment"
   ]
  },
  {
   "cell_type": "code",
   "execution_count": 19,
   "metadata": {
    "collapsed": false
   },
   "outputs": [
    {
     "name": "stderr",
     "output_type": "stream",
     "text": [
      "WARNING:pypot.dynamixel.error:Communication error after sending DxlSyncReadDataPacket(ids=[11, 12, 13, 31, 32, 33, 34, 21, 22, 23, 24, 41, 42, 43, 44, 45, 46, 51, 52, 53, 54, 55, 56], address=37, length=6)\n",
      "WARNING:pypot.dynamixel.error:Communication error after sending DxlSyncReadDataPacket(ids=[11, 12, 13, 31, 32, 33, 34, 21, 22, 23, 24, 41, 42, 43, 44, 45, 46, 51, 52, 53, 54, 55, 56], address=6, length=4)\n",
      "WARNING:pypot.dynamixel.error:Communication error after sending DxlSyncReadDataPacket(ids=[11, 12, 13, 31, 32, 33, 34, 21, 22, 23, 24, 41, 42, 43, 44, 45, 46, 51, 52, 53, 54, 55, 56], address=6, length=4)\n",
      "WARNING:pypot.dynamixel.error:Communication error after sending DxlSyncReadDataPacket(ids=[11, 12, 13, 31, 32, 33, 34, 21, 22, 23, 24, 41, 42, 43, 44, 45, 46, 51, 52, 53, 54, 55, 56], address=6, length=4)\n",
      "WARNING:pypot.dynamixel.error:Communication error after sending DxlSyncReadDataPacket(ids=[11, 12, 13, 31, 32, 33, 34, 21, 22, 23, 24, 41, 42, 43, 44, 45, 46, 51, 52, 53, 54, 55, 56], address=6, length=4)\n"
     ]
    }
   ],
   "source": [
    "rec.stop() # arrête l'enregistrement"
   ]
  },
  {
   "cell_type": "markdown",
   "metadata": {},
   "source": [
    "## Rejouer un mouvement"
   ]
  },
  {
   "cell_type": "code",
   "execution_count": 20,
   "metadata": {
    "collapsed": false
   },
   "outputs": [
    {
     "name": "stderr",
     "output_type": "stream",
     "text": [
      "WARNING:pypot.dynamixel.error:Communication error after sending DxlSyncReadDataPacket(ids=[11, 12, 13, 31, 32, 33, 34, 21, 22, 23, 24, 41, 42, 43, 44, 45, 46, 51, 52, 53, 54, 55, 56], address=6, length=4)\n",
      "WARNING:pypot.dynamixel.error:Communication error after sending DxlSyncReadDataPacket(ids=[11, 12, 13, 31, 32, 33, 34, 21, 22, 23, 24, 41, 42, 43, 44, 45, 46, 51, 52, 53, 54, 55, 56], address=6, length=4)\n",
      "WARNING:pypot.dynamixel.error:Communication error after sending DxlSyncReadDataPacket(ids=[11, 12, 13, 31, 32, 33, 34, 21, 22, 23, 24, 41, 42, 43, 44, 45, 46, 51, 52, 53, 54, 55, 56], address=6, length=4)\n"
     ]
    }
   ],
   "source": [
    "move = rec.move # recupere le dernier mouvement enregistre"
   ]
  },
  {
   "cell_type": "markdown",
   "metadata": {},
   "source": [
    "Creer un player "
   ]
  },
  {
   "cell_type": "code",
   "execution_count": 21,
   "metadata": {
    "collapsed": false
   },
   "outputs": [
    {
     "name": "stderr",
     "output_type": "stream",
     "text": [
      "WARNING:pypot.dynamixel.error:Communication error after sending DxlSyncReadDataPacket(ids=[11, 12, 13, 31, 32, 33, 34, 21, 22, 23, 24, 41, 42, 43, 44, 45, 46, 51, 52, 53, 54, 55, 56], address=6, length=4)\n",
      "WARNING:pypot.dynamixel.error:Communication error after sending DxlSyncReadDataPacket(ids=[11, 12, 13, 31, 32, 33, 34, 21, 22, 23, 24, 41, 42, 43, 44, 45, 46, 51, 52, 53, 54, 55, 56], address=37, length=6)\n",
      "WARNING:pypot.dynamixel.error:Communication error after sending DxlSyncReadDataPacket(ids=[11, 12, 13, 31, 32, 33, 34, 21, 22, 23, 24, 41, 42, 43, 44, 45, 46, 51, 52, 53, 54, 55, 56], address=6, length=4)\n",
      "WARNING:pypot.dynamixel.error:Communication error after sending DxlSyncReadDataPacket(ids=[11, 12, 13, 31, 32, 33, 34, 21, 22, 23, 24, 41, 42, 43, 44, 45, 46, 51, 52, 53, 54, 55, 56], address=6, length=4)\n",
      "WARNING:pypot.dynamixel.error:Timeout after sending DxlSyncReadDataPacket(ids=[11, 12, 13, 31, 32, 33, 34, 21, 22, 23, 24, 41, 42, 43, 44, 45, 46, 51, 52, 53, 54, 55, 56], address=37, length=6) to motors 254\n",
      "WARNING:pypot.dynamixel.error:Timeout after sending DxlSyncReadDataPacket(ids=[11, 12, 13, 31, 32, 33, 34, 21, 22, 23, 24, 41, 42, 43, 44, 45, 46, 51, 52, 53, 54, 55, 56], address=6, length=4) to motors 254\n",
      "WARNING:pypot.dynamixel.error:Communication error after sending DxlSyncReadDataPacket(ids=[11, 12, 13, 31, 32, 33, 34, 21, 22, 23, 24, 41, 42, 43, 44, 45, 46, 51, 52, 53, 54, 55, 56], address=45, length=1)\n",
      "WARNING:pypot.dynamixel.error:Communication error after sending DxlSyncReadDataPacket(ids=[11, 12, 13, 31, 32, 33, 34, 21, 22, 23, 24, 41, 42, 43, 44, 45, 46, 51, 52, 53, 54, 55, 56], address=6, length=4)\n",
      "WARNING:pypot.dynamixel.error:Communication error after sending DxlSyncReadDataPacket(ids=[11, 12, 13, 31, 32, 33, 34, 21, 22, 23, 24, 41, 42, 43, 44, 45, 46, 51, 52, 53, 54, 55, 56], address=46, length=1)\n",
      "WARNING:pypot.dynamixel.error:Communication error after sending DxlSyncReadDataPacket(ids=[11, 12, 13, 31, 32, 33, 34, 21, 22, 23, 24, 41, 42, 43, 44, 45, 46, 51, 52, 53, 54, 55, 56], address=6, length=4)\n",
      "WARNING:pypot.dynamixel.error:Communication error after sending DxlSyncReadDataPacket(ids=[11, 12, 13, 31, 32, 33, 34, 21, 22, 23, 24, 41, 42, 43, 44, 45, 46, 51, 52, 53, 54, 55, 56], address=37, length=6)\n",
      "WARNING:pypot.dynamixel.error:Communication error after sending DxlSyncReadDataPacket(ids=[11, 12, 13, 31, 32, 33, 34, 21, 22, 23, 24, 41, 42, 43, 44, 45, 46, 51, 52, 53, 54, 55, 56], address=45, length=1)\n",
      "WARNING:pypot.dynamixel.error:Communication error after sending DxlSyncReadDataPacket(ids=[11, 12, 13, 31, 32, 33, 34, 21, 22, 23, 24, 41, 42, 43, 44, 45, 46, 51, 52, 53, 54, 55, 56], address=6, length=4)\n",
      "WARNING:pypot.dynamixel.error:Communication error after sending DxlSyncReadDataPacket(ids=[11, 12, 13, 31, 32, 33, 34, 21, 22, 23, 24, 41, 42, 43, 44, 45, 46, 51, 52, 53, 54, 55, 56], address=6, length=4)\n"
     ]
    }
   ],
   "source": [
    "player = MovePlayer(fendi, move) "
   ]
  },
  {
   "cell_type": "code",
   "execution_count": 22,
   "metadata": {
    "collapsed": false
   },
   "outputs": [
    {
     "name": "stderr",
     "output_type": "stream",
     "text": [
      "WARNING:pypot.dynamixel.error:Communication error after sending DxlSyncReadDataPacket(ids=[11, 12, 13, 31, 32, 33, 34, 21, 22, 23, 24, 41, 42, 43, 44, 45, 46, 51, 52, 53, 54, 55, 56], address=6, length=4)\n",
      "WARNING:pypot.dynamixel.error:Communication error after sending DxlSyncReadDataPacket(ids=[11, 12, 13, 31, 32, 33, 34, 21, 22, 23, 24, 41, 42, 43, 44, 45, 46, 51, 52, 53, 54, 55, 56], address=37, length=6)\n",
      "WARNING:pypot.dynamixel.error:Timeout after sending DxlSyncReadDataPacket(ids=[11, 12, 13, 31, 32, 33, 34, 21, 22, 23, 24, 41, 42, 43, 44, 45, 46, 51, 52, 53, 54, 55, 56], address=6, length=4) to motors 254\n",
      "WARNING:pypot.dynamixel.error:Communication error after sending DxlSyncReadDataPacket(ids=[11, 12, 13, 31, 32, 33, 34, 21, 22, 23, 24, 41, 42, 43, 44, 45, 46, 51, 52, 53, 54, 55, 56], address=6, length=4)\n",
      "WARNING:pypot.dynamixel.error:Communication error after sending DxlSyncReadDataPacket(ids=[11, 12, 13, 31, 32, 33, 34, 21, 22, 23, 24, 41, 42, 43, 44, 45, 46, 51, 52, 53, 54, 55, 56], address=6, length=4)\n",
      "WARNING:pypot.dynamixel.error:Communication error after sending DxlSyncReadDataPacket(ids=[11, 12, 13, 31, 32, 33, 34, 21, 22, 23, 24, 41, 42, 43, 44, 45, 46, 51, 52, 53, 54, 55, 56], address=6, length=4)\n",
      "WARNING:pypot.dynamixel.error:Communication error after sending DxlSyncReadDataPacket(ids=[11, 12, 13, 31, 32, 33, 34, 21, 22, 23, 24, 41, 42, 43, 44, 45, 46, 51, 52, 53, 54, 55, 56], address=6, length=4)\n",
      "WARNING:pypot.dynamixel.error:Communication error after sending DxlSyncReadDataPacket(ids=[11, 12, 13, 31, 32, 33, 34, 21, 22, 23, 24, 41, 42, 43, 44, 45, 46, 51, 52, 53, 54, 55, 56], address=6, length=4)\n",
      "WARNING:pypot.dynamixel.error:Communication error after sending DxlSyncReadDataPacket(ids=[11, 12, 13, 31, 32, 33, 34, 21, 22, 23, 24, 41, 42, 43, 44, 45, 46, 51, 52, 53, 54, 55, 56], address=6, length=4)\n",
      "WARNING:pypot.dynamixel.error:Communication error after sending DxlSyncReadDataPacket(ids=[11, 12, 13, 31, 32, 33, 34, 21, 22, 23, 24, 41, 42, 43, 44, 45, 46, 51, 52, 53, 54, 55, 56], address=37, length=6)\n",
      "WARNING:pypot.dynamixel.error:Communication error after sending DxlSyncReadDataPacket(ids=[11, 12, 13, 31, 32, 33, 34, 21, 22, 23, 24, 41, 42, 43, 44, 45, 46, 51, 52, 53, 54, 55, 56], address=6, length=4)\n",
      "WARNING:pypot.dynamixel.error:Communication error after sending DxlSyncReadDataPacket(ids=[11, 12, 13, 31, 32, 33, 34, 21, 22, 23, 24, 41, 42, 43, 44, 45, 46, 51, 52, 53, 54, 55, 56], address=45, length=1)\n",
      "WARNING:pypot.dynamixel.error:Communication error after sending DxlSyncReadDataPacket(ids=[11, 12, 13, 31, 32, 33, 34, 21, 22, 23, 24, 41, 42, 43, 44, 45, 46, 51, 52, 53, 54, 55, 56], address=46, length=1)\n",
      "WARNING:pypot.dynamixel.error:Communication error after sending DxlSyncReadDataPacket(ids=[11, 12, 13, 31, 32, 33, 34, 21, 22, 23, 24, 41, 42, 43, 44, 45, 46, 51, 52, 53, 54, 55, 56], address=6, length=4)\n",
      "WARNING:pypot.dynamixel.error:Communication error after sending DxlSyncReadDataPacket(ids=[11, 12, 13, 31, 32, 33, 34, 21, 22, 23, 24, 41, 42, 43, 44, 45, 46, 51, 52, 53, 54, 55, 56], address=6, length=4)\n",
      "WARNING:pypot.dynamixel.error:Communication error after sending DxlSyncReadDataPacket(ids=[11, 12, 13, 31, 32, 33, 34, 21, 22, 23, 24, 41, 42, 43, 44, 45, 46, 51, 52, 53, 54, 55, 56], address=6, length=4)\n",
      "WARNING:pypot.dynamixel.error:Communication error after sending DxlSyncReadDataPacket(ids=[11, 12, 13, 31, 32, 33, 34, 21, 22, 23, 24, 41, 42, 43, 44, 45, 46, 51, 52, 53, 54, 55, 56], address=6, length=4)\n",
      "WARNING:pypot.dynamixel.error:Communication error after sending DxlSyncReadDataPacket(ids=[11, 12, 13, 31, 32, 33, 34, 21, 22, 23, 24, 41, 42, 43, 44, 45, 46, 51, 52, 53, 54, 55, 56], address=6, length=4)\n",
      "WARNING:pypot.dynamixel.error:Communication error after sending DxlSyncReadDataPacket(ids=[11, 12, 13, 31, 32, 33, 34, 21, 22, 23, 24, 41, 42, 43, 44, 45, 46, 51, 52, 53, 54, 55, 56], address=6, length=4)\n",
      "WARNING:pypot.dynamixel.error:Communication error after sending DxlSyncReadDataPacket(ids=[11, 12, 13, 31, 32, 33, 34, 21, 22, 23, 24, 41, 42, 43, 44, 45, 46, 51, 52, 53, 54, 55, 56], address=6, length=4)\n",
      "WARNING:pypot.dynamixel.error:Timeout after sending DxlSyncReadDataPacket(ids=[11, 12, 13, 31, 32, 33, 34, 21, 22, 23, 24, 41, 42, 43, 44, 45, 46, 51, 52, 53, 54, 55, 56], address=6, length=4) to motors 254\n",
      "WARNING:pypot.dynamixel.error:Communication error after sending DxlSyncReadDataPacket(ids=[11, 12, 13, 31, 32, 33, 34, 21, 22, 23, 24, 41, 42, 43, 44, 45, 46, 51, 52, 53, 54, 55, 56], address=6, length=4)\n",
      "WARNING:pypot.dynamixel.error:Communication error after sending DxlSyncReadDataPacket(ids=[11, 12, 13, 31, 32, 33, 34, 21, 22, 23, 24, 41, 42, 43, 44, 45, 46, 51, 52, 53, 54, 55, 56], address=37, length=6)\n"
     ]
    }
   ],
   "source": [
    "player.start()"
   ]
  },
  {
   "cell_type": "markdown",
   "metadata": {},
   "source": [
    "Arreter le mouvement"
   ]
  },
  {
   "cell_type": "code",
   "execution_count": 13,
   "metadata": {
    "collapsed": false
   },
   "outputs": [
    {
     "name": "stderr",
     "output_type": "stream",
     "text": [
      "WARNING:pypot.dynamixel.error:Communication error after sending DxlSyncReadDataPacket(ids=[11, 12, 13, 31, 32, 33, 34, 21, 22, 23, 24, 41, 42, 43, 44, 45, 46, 51, 52, 53, 54, 55, 56], address=6, length=4)\n",
      "WARNING:pypot.dynamixel.error:Communication error after sending DxlSyncReadDataPacket(ids=[11, 12, 13, 31, 32, 33, 34, 21, 22, 23, 24, 41, 42, 43, 44, 45, 46, 51, 52, 53, 54, 55, 56], address=6, length=4)\n",
      "WARNING:pypot.dynamixel.error:Communication error after sending DxlSyncReadDataPacket(ids=[11, 12, 13, 31, 32, 33, 34, 21, 22, 23, 24, 41, 42, 43, 44, 45, 46, 51, 52, 53, 54, 55, 56], address=6, length=4)\n",
      "WARNING:pypot.dynamixel.error:Communication error after sending DxlSyncReadDataPacket(ids=[11, 12, 13, 31, 32, 33, 34, 21, 22, 23, 24, 41, 42, 43, 44, 45, 46, 51, 52, 53, 54, 55, 56], address=46, length=1)\n",
      "WARNING:pypot.dynamixel.error:Communication error after sending DxlSyncReadDataPacket(ids=[11, 12, 13, 31, 32, 33, 34, 21, 22, 23, 24, 41, 42, 43, 44, 45, 46, 51, 52, 53, 54, 55, 56], address=6, length=4)\n"
     ]
    }
   ],
   "source": [
    "player.stop()"
   ]
  },
  {
   "cell_type": "markdown",
   "metadata": {},
   "source": [
    "## Sauvegarder le mouvement sur le disque"
   ]
  },
  {
   "cell_type": "code",
   "execution_count": 23,
   "metadata": {
    "collapsed": false,
    "scrolled": true
   },
   "outputs": [
    {
     "name": "stderr",
     "output_type": "stream",
     "text": [
      "WARNING:pypot.dynamixel.error:Communication error after sending DxlSyncReadDataPacket(ids=[11, 12, 13, 31, 32, 33, 34, 21, 22, 23, 24, 41, 42, 43, 44, 45, 46, 51, 52, 53, 54, 55, 56], address=6, length=4)\n",
      "WARNING:pypot.dynamixel.error:Communication error after sending DxlSyncReadDataPacket(ids=[11, 12, 13, 31, 32, 33, 34, 21, 22, 23, 24, 41, 42, 43, 44, 45, 46, 51, 52, 53, 54, 55, 56], address=6, length=4)\n",
      "WARNING:pypot.dynamixel.error:Timeout after sending DxlSyncReadDataPacket(ids=[11, 12, 13, 31, 32, 33, 34, 21, 22, 23, 24, 41, 42, 43, 44, 45, 46, 51, 52, 53, 54, 55, 56], address=46, length=1) to motors 254\n",
      "WARNING:pypot.dynamixel.error:Communication error after sending DxlSyncReadDataPacket(ids=[11, 12, 13, 31, 32, 33, 34, 21, 22, 23, 24, 41, 42, 43, 44, 45, 46, 51, 52, 53, 54, 55, 56], address=6, length=4)\n",
      "WARNING:pypot.dynamixel.error:Communication error after sending DxlSyncReadDataPacket(ids=[11, 12, 13, 31, 32, 33, 34, 21, 22, 23, 24, 41, 42, 43, 44, 45, 46, 51, 52, 53, 54, 55, 56], address=6, length=4)\n",
      "WARNING:pypot.dynamixel.error:Communication error after sending DxlSyncReadDataPacket(ids=[11, 12, 13, 31, 32, 33, 34, 21, 22, 23, 24, 41, 42, 43, 44, 45, 46, 51, 52, 53, 54, 55, 56], address=45, length=1)\n",
      "WARNING:pypot.dynamixel.error:Communication error after sending DxlSyncReadDataPacket(ids=[11, 12, 13, 31, 32, 33, 34, 21, 22, 23, 24, 41, 42, 43, 44, 45, 46, 51, 52, 53, 54, 55, 56], address=6, length=4)\n",
      "WARNING:pypot.dynamixel.error:Communication error after sending DxlSyncReadDataPacket(ids=[11, 12, 13, 31, 32, 33, 34, 21, 22, 23, 24, 41, 42, 43, 44, 45, 46, 51, 52, 53, 54, 55, 56], address=6, length=4)\n",
      "WARNING:pypot.dynamixel.error:Communication error after sending DxlSyncReadDataPacket(ids=[11, 12, 13, 31, 32, 33, 34, 21, 22, 23, 24, 41, 42, 43, 44, 45, 46, 51, 52, 53, 54, 55, 56], address=6, length=4)\n",
      "WARNING:pypot.dynamixel.error:Communication error after sending DxlSyncReadDataPacket(ids=[11, 12, 13, 31, 32, 33, 34, 21, 22, 23, 24, 41, 42, 43, 44, 45, 46, 51, 52, 53, 54, 55, 56], address=6, length=4)\n",
      "WARNING:pypot.dynamixel.error:Timeout after sending DxlSyncReadDataPacket(ids=[11, 12, 13, 31, 32, 33, 34, 21, 22, 23, 24, 41, 42, 43, 44, 45, 46, 51, 52, 53, 54, 55, 56], address=46, length=1) to motors 254\n",
      "WARNING:pypot.dynamixel.error:Communication error after sending DxlSyncReadDataPacket(ids=[11, 12, 13, 31, 32, 33, 34, 21, 22, 23, 24, 41, 42, 43, 44, 45, 46, 51, 52, 53, 54, 55, 56], address=6, length=4)\n",
      "WARNING:pypot.dynamixel.error:Timeout after sending DxlSyncReadDataPacket(ids=[11, 12, 13, 31, 32, 33, 34, 21, 22, 23, 24, 41, 42, 43, 44, 45, 46, 51, 52, 53, 54, 55, 56], address=6, length=4) to motors 254\n",
      "WARNING:pypot.dynamixel.error:Communication error after sending DxlSyncReadDataPacket(ids=[11, 12, 13, 31, 32, 33, 34, 21, 22, 23, 24, 41, 42, 43, 44, 45, 46, 51, 52, 53, 54, 55, 56], address=6, length=4)\n",
      "WARNING:pypot.dynamixel.error:Communication error after sending DxlSyncReadDataPacket(ids=[11, 12, 13, 31, 32, 33, 34, 21, 22, 23, 24, 41, 42, 43, 44, 45, 46, 51, 52, 53, 54, 55, 56], address=6, length=4)\n",
      "WARNING:pypot.dynamixel.error:Communication error after sending DxlSyncReadDataPacket(ids=[11, 12, 13, 31, 32, 33, 34, 21, 22, 23, 24, 41, 42, 43, 44, 45, 46, 51, 52, 53, 54, 55, 56], address=37, length=6)\n",
      "WARNING:pypot.dynamixel.error:Communication error after sending DxlSyncReadDataPacket(ids=[11, 12, 13, 31, 32, 33, 34, 21, 22, 23, 24, 41, 42, 43, 44, 45, 46, 51, 52, 53, 54, 55, 56], address=6, length=4)\n",
      "WARNING:pypot.dynamixel.error:Communication error after sending DxlSyncReadDataPacket(ids=[11, 12, 13, 31, 32, 33, 34, 21, 22, 23, 24, 41, 42, 43, 44, 45, 46, 51, 52, 53, 54, 55, 56], address=6, length=4)\n",
      "WARNING:pypot.dynamixel.error:Communication error after sending DxlSyncReadDataPacket(ids=[11, 12, 13, 31, 32, 33, 34, 21, 22, 23, 24, 41, 42, 43, 44, 45, 46, 51, 52, 53, 54, 55, 56], address=45, length=1)\n",
      "WARNING:pypot.dynamixel.error:Timeout after sending DxlSyncReadDataPacket(ids=[11, 12, 13, 31, 32, 33, 34, 21, 22, 23, 24, 41, 42, 43, 44, 45, 46, 51, 52, 53, 54, 55, 56], address=37, length=6) to motors 254\n",
      "WARNING:pypot.dynamixel.error:Communication error after sending DxlSyncReadDataPacket(ids=[11, 12, 13, 31, 32, 33, 34, 21, 22, 23, 24, 41, 42, 43, 44, 45, 46, 51, 52, 53, 54, 55, 56], address=6, length=4)\n"
     ]
    }
   ],
   "source": [
    "with open('monmove.move', 'w') as file:\n",
    "    move.save(file)"
   ]
  },
  {
   "cell_type": "markdown",
   "metadata": {},
   "source": [
    "## Recharger un autre mouvement"
   ]
  },
  {
   "cell_type": "code",
   "execution_count": 16,
   "metadata": {
    "collapsed": true
   },
   "outputs": [
    {
     "name": "stderr",
     "output_type": "stream",
     "text": [
      "WARNING:pypot.dynamixel.error:Timeout after sending DxlSyncReadDataPacket(ids=[11, 12, 13, 31, 32, 33, 34, 21, 22, 23, 24, 41, 42, 43, 44, 45, 46, 51, 52, 53, 54, 55, 56], address=6, length=4) to motors 254\n",
      "WARNING:pypot.dynamixel.error:Communication error after sending DxlSyncReadDataPacket(ids=[11, 12, 13, 31, 32, 33, 34, 21, 22, 23, 24, 41, 42, 43, 44, 45, 46, 51, 52, 53, 54, 55, 56], address=46, length=1)\n",
      "WARNING:pypot.dynamixel.error:Timeout after sending DxlSyncReadDataPacket(ids=[11, 12, 13, 31, 32, 33, 34, 21, 22, 23, 24, 41, 42, 43, 44, 45, 46, 51, 52, 53, 54, 55, 56], address=45, length=1) to motors 254\n",
      "WARNING:pypot.dynamixel.error:Communication error after sending DxlSyncReadDataPacket(ids=[11, 12, 13, 31, 32, 33, 34, 21, 22, 23, 24, 41, 42, 43, 44, 45, 46, 51, 52, 53, 54, 55, 56], address=6, length=4)\n",
      "WARNING:pypot.dynamixel.error:Timeout after sending DxlSyncReadDataPacket(ids=[11, 12, 13, 31, 32, 33, 34, 21, 22, 23, 24, 41, 42, 43, 44, 45, 46, 51, 52, 53, 54, 55, 56], address=6, length=4) to motors 254\n",
      "WARNING:pypot.dynamixel.error:Communication error after sending DxlSyncReadDataPacket(ids=[11, 12, 13, 31, 32, 33, 34, 21, 22, 23, 24, 41, 42, 43, 44, 45, 46, 51, 52, 53, 54, 55, 56], address=6, length=4)\n",
      "WARNING:pypot.dynamixel.error:Communication error after sending DxlSyncReadDataPacket(ids=[11, 12, 13, 31, 32, 33, 34, 21, 22, 23, 24, 41, 42, 43, 44, 45, 46, 51, 52, 53, 54, 55, 56], address=37, length=6)\n",
      "WARNING:pypot.dynamixel.error:Communication error after sending DxlSyncReadDataPacket(ids=[11, 12, 13, 31, 32, 33, 34, 21, 22, 23, 24, 41, 42, 43, 44, 45, 46, 51, 52, 53, 54, 55, 56], address=6, length=4)\n",
      "WARNING:pypot.dynamixel.error:Communication error after sending DxlSyncReadDataPacket(ids=[11, 12, 13, 31, 32, 33, 34, 21, 22, 23, 24, 41, 42, 43, 44, 45, 46, 51, 52, 53, 54, 55, 56], address=6, length=4)\n",
      "WARNING:pypot.dynamixel.error:Communication error after sending DxlSyncReadDataPacket(ids=[11, 12, 13, 31, 32, 33, 34, 21, 22, 23, 24, 41, 42, 43, 44, 45, 46, 51, 52, 53, 54, 55, 56], address=6, length=4)\n",
      "WARNING:pypot.dynamixel.error:Communication error after sending DxlSyncReadDataPacket(ids=[11, 12, 13, 31, 32, 33, 34, 21, 22, 23, 24, 41, 42, 43, 44, 45, 46, 51, 52, 53, 54, 55, 56], address=6, length=4)\n",
      "WARNING:pypot.dynamixel.error:Communication error after sending DxlSyncReadDataPacket(ids=[11, 12, 13, 31, 32, 33, 34, 21, 22, 23, 24, 41, 42, 43, 44, 45, 46, 51, 52, 53, 54, 55, 56], address=6, length=4)\n",
      "WARNING:pypot.dynamixel.error:Communication error after sending DxlSyncReadDataPacket(ids=[11, 12, 13, 31, 32, 33, 34, 21, 22, 23, 24, 41, 42, 43, 44, 45, 46, 51, 52, 53, 54, 55, 56], address=6, length=4)\n"
     ]
    }
   ],
   "source": [
    "with open('monmove.move') as file:\n",
    "    monnouveaumove = Move.load(file)"
   ]
  },
  {
   "cell_type": "code",
   "execution_count": null,
   "metadata": {
    "collapsed": true
   },
   "outputs": [],
   "source": []
  }
 ],
 "metadata": {
  "kernelspec": {
   "display_name": "Python 2",
   "language": "python",
   "name": "python2"
  },
  "language_info": {
   "codemirror_mode": {
    "name": "ipython",
    "version": 2
   },
   "file_extension": ".py",
   "mimetype": "text/x-python",
   "name": "python",
   "nbconvert_exporter": "python",
   "pygments_lexer": "ipython2",
   "version": "2.7.9"
  }
 },
 "nbformat": 4,
 "nbformat_minor": 0
}
